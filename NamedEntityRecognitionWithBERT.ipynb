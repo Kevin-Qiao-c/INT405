{
 "nbformat": 4,
 "nbformat_minor": 0,
 "metadata": {
  "accelerator": "GPU",
  "colab": {
   "provenance": []
  },
  "kernelspec": {
   "display_name": "Python 3",
   "language": "python",
   "name": "python3"
  },
  "language_info": {
   "codemirror_mode": {
    "name": "ipython",
    "version": 3
   },
   "file_extension": ".py",
   "mimetype": "text/x-python",
   "name": "python",
   "nbconvert_exporter": "python",
   "pygments_lexer": "ipython3",
   "version": "3.6.4"
  }
 },
 "cells": [
  {
   "cell_type": "markdown",
   "source": [
    "# Assignment 2\n",
    "\n",
    "Assignment 2 is an extension on lab 5, where we use neural sequence models for NER. Assignment 2 asks you to put a linear chain CRF on top.\n",
    "\n",
    "Questions will be stated at the end of this notebook, and there will also be a follow up oral assessment.\n",
    "\n",
    "A.I. usage is allowed but must be **throughly documented**. Do not write down any parts of A.I. solution if you do not understand them. You will **lose all marks for that part** if you do so. You will be regarded as **plagirism** if you do not understand your solution and you do not document A.I. usage.\n",
    "\n",
    "Disscussion with classmates are allowed and encouraged.\n",
    "\n",
    "Submit this notebook **with all the running output saved**.\n",
    "Name the file p02s\\<id\\>.ipynb\n",
    "\n",
    "# Deadline\n",
    "**Thursday 7-Nov-2024 23:55 p.m.**\n"
   ],
   "metadata": {
    "id": "Kh905qtYzGWB"
   }
  },
  {
   "cell_type": "markdown",
   "metadata": {
    "id": "MyETdB-dkBsX"
   },
   "source": [
    "## **Fine-tuning BERT for named-entity recognition**\n",
    "\n",
    "In the lab part (adapted from [Transformers-Tutorials](https://github.com/NielsRogge/Transformers-Tutorials)) of this notebook, we are going to use **BertForTokenClassification** which is included in the [Transformers library](https://github.com/huggingface/transformers) by HuggingFace. This model has BERT as its base architecture, with a token classification head on top, allowing it to make predictions at the token level, rather than the sequence level. Named entity recognition is typically treated as a token classification problem, so that's what we are going to use it for.\n",
    "\n",
    "This tutorial uses the idea of **transfer learning**, i.e. first pretraining a large neural network in an unsupervised way, and then fine-tuning that neural network on a task of interest. In this case, BERT is a neural network pretrained on 2 tasks: masked language modeling and next sentence prediction. Now, we are going to fine-tune this network on a NER dataset. Fine-tuning is supervised learning, so this means we will need a labeled dataset.\n",
    "\n",
    "If you want to know more about BERT, I suggest the following resources:\n",
    "* the original [paper](https://arxiv.org/abs/1810.04805)\n",
    "* Jay Allamar's [blog post](http://jalammar.github.io/illustrated-bert/) as well as his [tutorial](http://jalammar.github.io/a-visual-guide-to-using-bert-for-the-first-time/)\n",
    "* Chris Mccormick's [Youtube channel](https://www.youtube.com/channel/UCoRX98PLOsaN8PtekB9kWrw)\n",
    "* Abbishek Kumar Mishra's [Youtube channel](https://www.youtube.com/user/abhisheksvnit)\n",
    "\n",
    "The following notebook largely follows the same structure as the tutorials by Abhishek Kumar Mishra. For his tutorials on the Transformers library, see his [Github repository](https://github.com/abhimishra91/transformers-tutorials).\n",
    "\n",
    "NOTE: this notebook assumes basic knowledge about deep learning, BERT, and native PyTorch. If you want to learn more Python, deep learning and PyTorch, I highly recommend cs231n by Stanford University and the FastAI course by Jeremy Howard et al. Both are freely available on the web.  \n",
    "\n",
    "Now, let's move on to the real stuff!"
   ]
  },
  {
   "cell_type": "markdown",
   "metadata": {
    "id": "e7wfLWyYkvDi"
   },
   "source": [
    "#### **Importing Python Libraries and preparing the environment**\n",
    "\n",
    "This notebook assumes that you have the following libraries installed:\n",
    "* pandas\n",
    "* numpy\n",
    "* sklearn\n",
    "* pytorch\n",
    "* transformers\n",
    "* seqeval\n",
    "\n",
    "As we are running this in Google Colab, the only libraries we need to additionally install are transformers and seqeval (GPU version):"
   ]
  },
  {
   "cell_type": "code",
   "metadata": {
    "id": "IEnlUbgm8z3B",
    "ExecuteTime": {
     "end_time": "2024-11-02T06:47:24.744042Z",
     "start_time": "2024-11-02T06:47:19.256946Z"
    }
   },
   "source": [
    "import pandas as pd\n",
    "import numpy as np\n",
    "from sklearn.metrics import accuracy_score\n",
    "import torch\n",
    "from torch.utils.data import Dataset, DataLoader\n",
    "from transformers import BertTokenizerFast, BertForTokenClassification\n",
    "from seqeval.metrics import classification_report"
   ],
   "outputs": [],
   "execution_count": 1
  },
  {
   "cell_type": "markdown",
   "metadata": {
    "id": "Jzq1w3L1K5M-"
   },
   "source": [
    "As deep learning can be accellerated a lot using a GPU instead of a CPU, make sure you can run this notebook in a GPU runtime (which Google Colab provides for free! - check \"Runtime\" - \"Change runtime type\" - and set the hardware accelerator to \"GPU\").\n",
    "\n",
    "We can set the default device to GPU using the following code (if it prints \"cuda\", it means the GPU has been recognized):"
   ]
  },
  {
   "cell_type": "code",
   "metadata": {
    "id": "Sm1krxJtKxpx",
    "tags": [],
    "ExecuteTime": {
     "end_time": "2024-11-02T06:47:24.774871Z",
     "start_time": "2024-11-02T06:47:24.757044Z"
    }
   },
   "source": [
    "from torch import cuda\n",
    "\n",
    "device = 'cuda' if cuda.is_available() else 'cpu'\n",
    "print(device)"
   ],
   "outputs": [
    {
     "name": "stdout",
     "output_type": "stream",
     "text": [
      "cuda\n"
     ]
    }
   ],
   "execution_count": 2
  },
  {
   "cell_type": "markdown",
   "metadata": {
    "id": "ahwMsmyG5ZPE"
   },
   "source": [
    "#### **Downloading and preprocessing the data**\n",
    "Named entity recognition (NER) uses a specific annotation scheme, which is defined (at least for European languages) at the *word* level. An annotation scheme that is widely used is called **[IOB-tagging](https://en.wikipedia.org/wiki/Inside%E2%80%93outside%E2%80%93beginning_(tagging)**, which stands for Inside-Outside-Beginning. Each tag indicates whether the corresponding word is *inside*, *outside* or at the *beginning* of a specific named entity. The reason this is used is because named entities usually comprise more than 1 word.\n",
    "\n",
    "Let's have a look at an example. If you have a sentence like \"Barack Obama was born in Hawaï\", then the corresponding tags would be   [B-PERS, I-PERS, O, O, O, B-GEO]. B-PERS means that the word \"Barack\" is the beginning of a person, I-PERS means that the word \"Obama\" is inside a person, \"O\" means that the word \"was\" is outside a named entity, and so on. So one typically has as many tags as there are words in a sentence.\n",
    "\n",
    "So if you want to train a deep learning model for NER, it requires that you have your data in this IOB format (or similar formats such as [BILOU](https://stackoverflow.com/questions/17116446/what-do-the-bilou-tags-mean-in-named-entity-recognition)). There exist many annotation tools which let you create these kind of annotations automatically (such as Spacy's [Prodigy](https://prodi.gy/), [Tagtog](https://docs.tagtog.net/) or [Doccano](https://github.com/doccano/doccano)). You can also use Spacy's [biluo_tags_from_offsets](https://spacy.io/api/goldparse#biluo_tags_from_offsets) function to convert annotations at the character level to IOB format.\n",
    "\n",
    "Here, we will use a NER dataset from [Kaggle](https://www.kaggle.com/namanj27/ner-dataset) that is already in IOB format. One has to go to this web page, download the dataset, unzip it, and upload the csv file to this notebook. Let's print out the first few rows of this csv file:"
   ]
  },
  {
   "cell_type": "code",
   "source": [
    "import kagglehub\n",
    "\n",
    "# Download latest version\n",
    "path = kagglehub.dataset_download('namanj27/ner-dataset')  # 36 POSs, 17 Tags\n",
    "print(f'Path to dataset files: {path}')"
   ],
   "metadata": {
    "id": "k9vatAKT3y27",
    "ExecuteTime": {
     "end_time": "2024-11-02T06:47:26.191751Z",
     "start_time": "2024-11-02T06:47:24.828323Z"
    }
   },
   "outputs": [
    {
     "name": "stdout",
     "output_type": "stream",
     "text": [
      "Path to dataset files: C:\\Users\\Kevin\\.cache\\kagglehub\\datasets\\namanj27\\ner-dataset\\versions\\2\n"
     ]
    }
   ],
   "execution_count": 3
  },
  {
   "cell_type": "code",
   "metadata": {
    "id": "deLB9HVX5I6F",
    "ExecuteTime": {
     "end_time": "2024-11-02T06:47:26.453054Z",
     "start_time": "2024-11-02T06:47:26.231519Z"
    }
   },
   "source": [
    "data = pd.read_csv(path + '/ner_datasetreference.csv', encoding='unicode_escape')  # fix problem of sentence: 47592\n",
    "data.head()"
   ],
   "outputs": [
    {
     "data": {
      "text/plain": [
       "    Sentence #           Word  POS Tag\n",
       "0  Sentence: 1      Thousands  NNS   O\n",
       "1          NaN             of   IN   O\n",
       "2          NaN  demonstrators  NNS   O\n",
       "3          NaN           have  VBP   O\n",
       "4          NaN        marched  VBN   O"
      ],
      "text/html": [
       "<div>\n",
       "<style scoped>\n",
       "    .dataframe tbody tr th:only-of-type {\n",
       "        vertical-align: middle;\n",
       "    }\n",
       "\n",
       "    .dataframe tbody tr th {\n",
       "        vertical-align: top;\n",
       "    }\n",
       "\n",
       "    .dataframe thead th {\n",
       "        text-align: right;\n",
       "    }\n",
       "</style>\n",
       "<table border=\"1\" class=\"dataframe\">\n",
       "  <thead>\n",
       "    <tr style=\"text-align: right;\">\n",
       "      <th></th>\n",
       "      <th>Sentence #</th>\n",
       "      <th>Word</th>\n",
       "      <th>POS</th>\n",
       "      <th>Tag</th>\n",
       "    </tr>\n",
       "  </thead>\n",
       "  <tbody>\n",
       "    <tr>\n",
       "      <th>0</th>\n",
       "      <td>Sentence: 1</td>\n",
       "      <td>Thousands</td>\n",
       "      <td>NNS</td>\n",
       "      <td>O</td>\n",
       "    </tr>\n",
       "    <tr>\n",
       "      <th>1</th>\n",
       "      <td>NaN</td>\n",
       "      <td>of</td>\n",
       "      <td>IN</td>\n",
       "      <td>O</td>\n",
       "    </tr>\n",
       "    <tr>\n",
       "      <th>2</th>\n",
       "      <td>NaN</td>\n",
       "      <td>demonstrators</td>\n",
       "      <td>NNS</td>\n",
       "      <td>O</td>\n",
       "    </tr>\n",
       "    <tr>\n",
       "      <th>3</th>\n",
       "      <td>NaN</td>\n",
       "      <td>have</td>\n",
       "      <td>VBP</td>\n",
       "      <td>O</td>\n",
       "    </tr>\n",
       "    <tr>\n",
       "      <th>4</th>\n",
       "      <td>NaN</td>\n",
       "      <td>marched</td>\n",
       "      <td>VBN</td>\n",
       "      <td>O</td>\n",
       "    </tr>\n",
       "  </tbody>\n",
       "</table>\n",
       "</div>"
      ]
     },
     "execution_count": 4,
     "metadata": {},
     "output_type": "execute_result"
    }
   ],
   "execution_count": 4
  },
  {
   "cell_type": "markdown",
   "metadata": {
    "id": "ucYjhq6uRAmY"
   },
   "source": [
    "Let's check how many sentences and words (and corresponding tags) there are in this dataset:"
   ]
  },
  {
   "cell_type": "code",
   "metadata": {
    "id": "6gMibEJXTKDw",
    "ExecuteTime": {
     "end_time": "2024-11-02T06:47:26.581530Z",
     "start_time": "2024-11-02T06:47:26.497963Z"
    }
   },
   "source": [
    "data.count()"
   ],
   "outputs": [
    {
     "data": {
      "text/plain": [
       "Sentence #      47959\n",
       "Word          1048565\n",
       "POS           1048575\n",
       "Tag           1048575\n",
       "dtype: int64"
      ]
     },
     "execution_count": 5,
     "metadata": {},
     "output_type": "execute_result"
    }
   ],
   "execution_count": 5
  },
  {
   "cell_type": "markdown",
   "metadata": {
    "id": "xfdGDKlqXPZb"
   },
   "source": [
    "As we can see, there are approximately 48,000 sentences in the dataset, comprising more than 1 million words and tags (quite huge!). This corresponds to approximately 20 words per sentence.\n",
    "\n",
    "Let's have a look at the different NER tags, and their frequency:"
   ]
  },
  {
   "cell_type": "code",
   "metadata": {
    "tags": [],
    "id": "76iAeu2_XPZb",
    "ExecuteTime": {
     "end_time": "2024-11-02T06:47:26.694555Z",
     "start_time": "2024-11-02T06:47:26.634520Z"
    }
   },
   "source": [
    "print(f'Number of tags: {len(data.Tag.unique())}')\n",
    "frequencies = data.Tag.value_counts()\n",
    "frequencies"
   ],
   "outputs": [
    {
     "name": "stdout",
     "output_type": "stream",
     "text": [
      "Number of tags: 17\n"
     ]
    },
    {
     "data": {
      "text/plain": [
       "Tag\n",
       "O        887908\n",
       "B-geo     37644\n",
       "B-tim     20333\n",
       "B-org     20143\n",
       "I-per     17251\n",
       "B-per     16990\n",
       "I-org     16784\n",
       "B-gpe     15870\n",
       "I-geo      7414\n",
       "I-tim      6528\n",
       "B-art       402\n",
       "B-eve       308\n",
       "I-art       297\n",
       "I-eve       253\n",
       "B-nat       201\n",
       "I-gpe       198\n",
       "I-nat        51\n",
       "Name: count, dtype: int64"
      ]
     },
     "execution_count": 6,
     "metadata": {},
     "output_type": "execute_result"
    }
   ],
   "execution_count": 6
  },
  {
   "cell_type": "markdown",
   "metadata": {
    "id": "gOpvSrmWXPZe"
   },
   "source": [
    "There are 8 category tags, each with a \"beginning\" and \"inside\" variant, and the \"outside\" tag. It is not really clear what these tags mean - \"geo\" probably stands for geographical entity, \"gpe\" for geopolitical entity, and so on. They do not seem to correspond with what the publisher says on Kaggle. Some tags seem to be underrepresented. Let's print them by frequency (highest to lowest):"
   ]
  },
  {
   "cell_type": "code",
   "metadata": {
    "tags": [],
    "id": "LTFTa17UXPZf",
    "ExecuteTime": {
     "end_time": "2024-11-02T06:47:26.810074Z",
     "start_time": "2024-11-02T06:47:26.807071Z"
    }
   },
   "source": [
    "tags = {}\n",
    "for tag, count in zip(frequencies.index, frequencies):\n",
    "    if tag != 'O':\n",
    "        if tag[2:5] not in tags.keys():\n",
    "            tags[tag[2:5]] = count\n",
    "        else:\n",
    "            tags[tag[2:5]] += count\n",
    "    continue\n",
    "\n",
    "print(sorted(tags.items(), key=lambda x: x[1], reverse=True))"
   ],
   "outputs": [
    {
     "name": "stdout",
     "output_type": "stream",
     "text": [
      "[('geo', 45058), ('org', 36927), ('per', 34241), ('tim', 26861), ('gpe', 16068), ('art', 699), ('eve', 561), ('nat', 252)]\n"
     ]
    }
   ],
   "execution_count": 7
  },
  {
   "cell_type": "markdown",
   "metadata": {
    "id": "HKvKdtxKXPZg"
   },
   "source": [
    "Let's remove \"art\", \"eve\" and \"nat\" named entities, as performance on them will probably be not comparable to the other named entities."
   ]
  },
  {
   "cell_type": "code",
   "metadata": {
    "id": "xVotSuRLXPZh",
    "ExecuteTime": {
     "end_time": "2024-11-02T06:47:27.000533Z",
     "start_time": "2024-11-02T06:47:26.951719Z"
    }
   },
   "source": [
    "entities_to_remove = ['B-art', 'I-art', 'B-eve', 'I-eve', 'B-nat', 'I-nat']\n",
    "data = data[~data.Tag.isin(entities_to_remove)]\n",
    "data.head()"
   ],
   "outputs": [
    {
     "data": {
      "text/plain": [
       "    Sentence #           Word  POS Tag\n",
       "0  Sentence: 1      Thousands  NNS   O\n",
       "1          NaN             of   IN   O\n",
       "2          NaN  demonstrators  NNS   O\n",
       "3          NaN           have  VBP   O\n",
       "4          NaN        marched  VBN   O"
      ],
      "text/html": [
       "<div>\n",
       "<style scoped>\n",
       "    .dataframe tbody tr th:only-of-type {\n",
       "        vertical-align: middle;\n",
       "    }\n",
       "\n",
       "    .dataframe tbody tr th {\n",
       "        vertical-align: top;\n",
       "    }\n",
       "\n",
       "    .dataframe thead th {\n",
       "        text-align: right;\n",
       "    }\n",
       "</style>\n",
       "<table border=\"1\" class=\"dataframe\">\n",
       "  <thead>\n",
       "    <tr style=\"text-align: right;\">\n",
       "      <th></th>\n",
       "      <th>Sentence #</th>\n",
       "      <th>Word</th>\n",
       "      <th>POS</th>\n",
       "      <th>Tag</th>\n",
       "    </tr>\n",
       "  </thead>\n",
       "  <tbody>\n",
       "    <tr>\n",
       "      <th>0</th>\n",
       "      <td>Sentence: 1</td>\n",
       "      <td>Thousands</td>\n",
       "      <td>NNS</td>\n",
       "      <td>O</td>\n",
       "    </tr>\n",
       "    <tr>\n",
       "      <th>1</th>\n",
       "      <td>NaN</td>\n",
       "      <td>of</td>\n",
       "      <td>IN</td>\n",
       "      <td>O</td>\n",
       "    </tr>\n",
       "    <tr>\n",
       "      <th>2</th>\n",
       "      <td>NaN</td>\n",
       "      <td>demonstrators</td>\n",
       "      <td>NNS</td>\n",
       "      <td>O</td>\n",
       "    </tr>\n",
       "    <tr>\n",
       "      <th>3</th>\n",
       "      <td>NaN</td>\n",
       "      <td>have</td>\n",
       "      <td>VBP</td>\n",
       "      <td>O</td>\n",
       "    </tr>\n",
       "    <tr>\n",
       "      <th>4</th>\n",
       "      <td>NaN</td>\n",
       "      <td>marched</td>\n",
       "      <td>VBN</td>\n",
       "      <td>O</td>\n",
       "    </tr>\n",
       "  </tbody>\n",
       "</table>\n",
       "</div>"
      ]
     },
     "execution_count": 8,
     "metadata": {},
     "output_type": "execute_result"
    }
   ],
   "execution_count": 8
  },
  {
   "cell_type": "markdown",
   "metadata": {
    "id": "JsjhdQbE-Lve"
   },
   "source": [
    "We create 2 dictionaries: one that maps individual tags to indices, and one that maps indices to their individual tags. This is necessary in order to create the labels (as computers work with numbers = indices, rather than words = tags) - see further in this notebook."
   ]
  },
  {
   "cell_type": "code",
   "metadata": {
    "ExecuteTime": {
     "end_time": "2024-11-02T06:47:27.139184Z",
     "start_time": "2024-11-02T06:47:27.081324Z"
    }
   },
   "source": [
    "labels_to_ids = {k: v for v, k in enumerate(data.Tag.unique())}\n",
    "ids_to_labels = {v: k for v, k in enumerate(data.Tag.unique())}\n",
    "labels_to_ids"
   ],
   "outputs": [
    {
     "data": {
      "text/plain": [
       "{'O': 0,\n",
       " 'B-geo': 1,\n",
       " 'B-gpe': 2,\n",
       " 'B-per': 3,\n",
       " 'I-geo': 4,\n",
       " 'B-org': 5,\n",
       " 'I-org': 6,\n",
       " 'B-tim': 7,\n",
       " 'I-per': 8,\n",
       " 'I-gpe': 9,\n",
       " 'I-tim': 10}"
      ]
     },
     "execution_count": 9,
     "metadata": {},
     "output_type": "execute_result"
    }
   ],
   "execution_count": 9
  },
  {
   "metadata": {
    "id": "CFRDM8WsQXvL",
    "ExecuteTime": {
     "end_time": "2024-11-02T06:47:27.275167Z",
     "start_time": "2024-11-02T06:47:27.271418Z"
    }
   },
   "cell_type": "code",
   "source": "ids_to_labels",
   "outputs": [
    {
     "data": {
      "text/plain": [
       "{0: 'O',\n",
       " 1: 'B-geo',\n",
       " 2: 'B-gpe',\n",
       " 3: 'B-per',\n",
       " 4: 'I-geo',\n",
       " 5: 'B-org',\n",
       " 6: 'I-org',\n",
       " 7: 'B-tim',\n",
       " 8: 'I-per',\n",
       " 9: 'I-gpe',\n",
       " 10: 'I-tim'}"
      ]
     },
     "execution_count": 10,
     "metadata": {},
     "output_type": "execute_result"
    }
   ],
   "execution_count": 10
  },
  {
   "cell_type": "markdown",
   "metadata": {
    "id": "mskU4h0oRKEF"
   },
   "source": [
    "As we can see, there are now only 10 different NER tags.\n",
    "\n",
    "Now, we have to ask ourself the question: what is a training example in the case of NER, which is provided in a single forward pass? A training example is typically a **sentence**, with corresponding IOB tags. Let's group the words and corresponding tags by sentence:"
   ]
  },
  {
   "cell_type": "code",
   "metadata": {
    "id": "zkW2vNcO-uMH",
    "ExecuteTime": {
     "end_time": "2024-11-02T06:47:27.602088Z",
     "start_time": "2024-11-02T06:47:27.364052Z"
    }
   },
   "source": [
    "# pandas has a very handy \"forward fill\" function to fill missing values based on the last upper non-nan value\n",
    "data = data.ffill()\n",
    "data.head()"
   ],
   "outputs": [
    {
     "data": {
      "text/plain": [
       "    Sentence #           Word  POS Tag\n",
       "0  Sentence: 1      Thousands  NNS   O\n",
       "1  Sentence: 1             of   IN   O\n",
       "2  Sentence: 1  demonstrators  NNS   O\n",
       "3  Sentence: 1           have  VBP   O\n",
       "4  Sentence: 1        marched  VBN   O"
      ],
      "text/html": [
       "<div>\n",
       "<style scoped>\n",
       "    .dataframe tbody tr th:only-of-type {\n",
       "        vertical-align: middle;\n",
       "    }\n",
       "\n",
       "    .dataframe tbody tr th {\n",
       "        vertical-align: top;\n",
       "    }\n",
       "\n",
       "    .dataframe thead th {\n",
       "        text-align: right;\n",
       "    }\n",
       "</style>\n",
       "<table border=\"1\" class=\"dataframe\">\n",
       "  <thead>\n",
       "    <tr style=\"text-align: right;\">\n",
       "      <th></th>\n",
       "      <th>Sentence #</th>\n",
       "      <th>Word</th>\n",
       "      <th>POS</th>\n",
       "      <th>Tag</th>\n",
       "    </tr>\n",
       "  </thead>\n",
       "  <tbody>\n",
       "    <tr>\n",
       "      <th>0</th>\n",
       "      <td>Sentence: 1</td>\n",
       "      <td>Thousands</td>\n",
       "      <td>NNS</td>\n",
       "      <td>O</td>\n",
       "    </tr>\n",
       "    <tr>\n",
       "      <th>1</th>\n",
       "      <td>Sentence: 1</td>\n",
       "      <td>of</td>\n",
       "      <td>IN</td>\n",
       "      <td>O</td>\n",
       "    </tr>\n",
       "    <tr>\n",
       "      <th>2</th>\n",
       "      <td>Sentence: 1</td>\n",
       "      <td>demonstrators</td>\n",
       "      <td>NNS</td>\n",
       "      <td>O</td>\n",
       "    </tr>\n",
       "    <tr>\n",
       "      <th>3</th>\n",
       "      <td>Sentence: 1</td>\n",
       "      <td>have</td>\n",
       "      <td>VBP</td>\n",
       "      <td>O</td>\n",
       "    </tr>\n",
       "    <tr>\n",
       "      <th>4</th>\n",
       "      <td>Sentence: 1</td>\n",
       "      <td>marched</td>\n",
       "      <td>VBN</td>\n",
       "      <td>O</td>\n",
       "    </tr>\n",
       "  </tbody>\n",
       "</table>\n",
       "</div>"
      ]
     },
     "execution_count": 11,
     "metadata": {},
     "output_type": "execute_result"
    }
   ],
   "execution_count": 11
  },
  {
   "cell_type": "code",
   "metadata": {
    "id": "Hmd-ow389k6Y",
    "ExecuteTime": {
     "end_time": "2024-11-02T06:47:31.263468Z",
     "start_time": "2024-11-02T06:47:27.622780Z"
    }
   },
   "source": [
    "# Let's create a new column called \"sentence\" which groups the words by sentence\n",
    "data['sentence'] = data[['Sentence #', 'Word', 'Tag']].groupby(['Sentence #'])['Word'].transform(lambda x: ' '.join(x))\n",
    "# Let's also create a new column called \"word_labels\" which groups the tags by sentence\n",
    "data['word_labels'] = data[['Sentence #', 'Word', 'Tag']].groupby(['Sentence #'])['Tag'].transform(lambda x: ','.join(x))\n",
    "data.head()"
   ],
   "outputs": [
    {
     "data": {
      "text/plain": [
       "    Sentence #           Word  POS Tag  \\\n",
       "0  Sentence: 1      Thousands  NNS   O   \n",
       "1  Sentence: 1             of   IN   O   \n",
       "2  Sentence: 1  demonstrators  NNS   O   \n",
       "3  Sentence: 1           have  VBP   O   \n",
       "4  Sentence: 1        marched  VBN   O   \n",
       "\n",
       "                                            sentence  \\\n",
       "0  Thousands of demonstrators have marched throug...   \n",
       "1  Thousands of demonstrators have marched throug...   \n",
       "2  Thousands of demonstrators have marched throug...   \n",
       "3  Thousands of demonstrators have marched throug...   \n",
       "4  Thousands of demonstrators have marched throug...   \n",
       "\n",
       "                                         word_labels  \n",
       "0  O,O,O,O,O,O,B-geo,O,O,O,O,O,B-geo,O,O,O,O,O,B-...  \n",
       "1  O,O,O,O,O,O,B-geo,O,O,O,O,O,B-geo,O,O,O,O,O,B-...  \n",
       "2  O,O,O,O,O,O,B-geo,O,O,O,O,O,B-geo,O,O,O,O,O,B-...  \n",
       "3  O,O,O,O,O,O,B-geo,O,O,O,O,O,B-geo,O,O,O,O,O,B-...  \n",
       "4  O,O,O,O,O,O,B-geo,O,O,O,O,O,B-geo,O,O,O,O,O,B-...  "
      ],
      "text/html": [
       "<div>\n",
       "<style scoped>\n",
       "    .dataframe tbody tr th:only-of-type {\n",
       "        vertical-align: middle;\n",
       "    }\n",
       "\n",
       "    .dataframe tbody tr th {\n",
       "        vertical-align: top;\n",
       "    }\n",
       "\n",
       "    .dataframe thead th {\n",
       "        text-align: right;\n",
       "    }\n",
       "</style>\n",
       "<table border=\"1\" class=\"dataframe\">\n",
       "  <thead>\n",
       "    <tr style=\"text-align: right;\">\n",
       "      <th></th>\n",
       "      <th>Sentence #</th>\n",
       "      <th>Word</th>\n",
       "      <th>POS</th>\n",
       "      <th>Tag</th>\n",
       "      <th>sentence</th>\n",
       "      <th>word_labels</th>\n",
       "    </tr>\n",
       "  </thead>\n",
       "  <tbody>\n",
       "    <tr>\n",
       "      <th>0</th>\n",
       "      <td>Sentence: 1</td>\n",
       "      <td>Thousands</td>\n",
       "      <td>NNS</td>\n",
       "      <td>O</td>\n",
       "      <td>Thousands of demonstrators have marched throug...</td>\n",
       "      <td>O,O,O,O,O,O,B-geo,O,O,O,O,O,B-geo,O,O,O,O,O,B-...</td>\n",
       "    </tr>\n",
       "    <tr>\n",
       "      <th>1</th>\n",
       "      <td>Sentence: 1</td>\n",
       "      <td>of</td>\n",
       "      <td>IN</td>\n",
       "      <td>O</td>\n",
       "      <td>Thousands of demonstrators have marched throug...</td>\n",
       "      <td>O,O,O,O,O,O,B-geo,O,O,O,O,O,B-geo,O,O,O,O,O,B-...</td>\n",
       "    </tr>\n",
       "    <tr>\n",
       "      <th>2</th>\n",
       "      <td>Sentence: 1</td>\n",
       "      <td>demonstrators</td>\n",
       "      <td>NNS</td>\n",
       "      <td>O</td>\n",
       "      <td>Thousands of demonstrators have marched throug...</td>\n",
       "      <td>O,O,O,O,O,O,B-geo,O,O,O,O,O,B-geo,O,O,O,O,O,B-...</td>\n",
       "    </tr>\n",
       "    <tr>\n",
       "      <th>3</th>\n",
       "      <td>Sentence: 1</td>\n",
       "      <td>have</td>\n",
       "      <td>VBP</td>\n",
       "      <td>O</td>\n",
       "      <td>Thousands of demonstrators have marched throug...</td>\n",
       "      <td>O,O,O,O,O,O,B-geo,O,O,O,O,O,B-geo,O,O,O,O,O,B-...</td>\n",
       "    </tr>\n",
       "    <tr>\n",
       "      <th>4</th>\n",
       "      <td>Sentence: 1</td>\n",
       "      <td>marched</td>\n",
       "      <td>VBN</td>\n",
       "      <td>O</td>\n",
       "      <td>Thousands of demonstrators have marched throug...</td>\n",
       "      <td>O,O,O,O,O,O,B-geo,O,O,O,O,O,B-geo,O,O,O,O,O,B-...</td>\n",
       "    </tr>\n",
       "  </tbody>\n",
       "</table>\n",
       "</div>"
      ]
     },
     "execution_count": 12,
     "metadata": {},
     "output_type": "execute_result"
    }
   ],
   "execution_count": 12
  },
  {
   "cell_type": "code",
   "metadata": {
    "id": "SrEgd4PZUgmF",
    "ExecuteTime": {
     "end_time": "2024-11-02T06:47:31.667753Z",
     "start_time": "2024-11-02T06:47:31.285257Z"
    }
   },
   "source": [
    "# Let's only keep the \"sentence\" and \"word_labels\" columns, and drop duplicates:\n",
    "data = data[['sentence', 'word_labels']].drop_duplicates().reset_index(drop=True)\n",
    "data.head()"
   ],
   "outputs": [
    {
     "data": {
      "text/plain": [
       "                                            sentence  \\\n",
       "0  Thousands of demonstrators have marched throug...   \n",
       "1  Families of soldiers killed in the conflict jo...   \n",
       "2  They marched from the Houses of Parliament to ...   \n",
       "3  Police put the number of marchers at 10,000 wh...   \n",
       "4  The protest comes on the eve of the annual con...   \n",
       "\n",
       "                                         word_labels  \n",
       "0  O,O,O,O,O,O,B-geo,O,O,O,O,O,B-geo,O,O,O,O,O,B-...  \n",
       "1  O,O,O,O,O,O,O,O,O,O,O,O,O,O,O,O,O,O,B-per,O,O,...  \n",
       "2                O,O,O,O,O,O,O,O,O,O,O,B-geo,I-geo,O  \n",
       "3                      O,O,O,O,O,O,O,O,O,O,O,O,O,O,O  \n",
       "4  O,O,O,O,O,O,O,O,O,O,O,B-geo,O,O,B-org,I-org,O,...  "
      ],
      "text/html": [
       "<div>\n",
       "<style scoped>\n",
       "    .dataframe tbody tr th:only-of-type {\n",
       "        vertical-align: middle;\n",
       "    }\n",
       "\n",
       "    .dataframe tbody tr th {\n",
       "        vertical-align: top;\n",
       "    }\n",
       "\n",
       "    .dataframe thead th {\n",
       "        text-align: right;\n",
       "    }\n",
       "</style>\n",
       "<table border=\"1\" class=\"dataframe\">\n",
       "  <thead>\n",
       "    <tr style=\"text-align: right;\">\n",
       "      <th></th>\n",
       "      <th>sentence</th>\n",
       "      <th>word_labels</th>\n",
       "    </tr>\n",
       "  </thead>\n",
       "  <tbody>\n",
       "    <tr>\n",
       "      <th>0</th>\n",
       "      <td>Thousands of demonstrators have marched throug...</td>\n",
       "      <td>O,O,O,O,O,O,B-geo,O,O,O,O,O,B-geo,O,O,O,O,O,B-...</td>\n",
       "    </tr>\n",
       "    <tr>\n",
       "      <th>1</th>\n",
       "      <td>Families of soldiers killed in the conflict jo...</td>\n",
       "      <td>O,O,O,O,O,O,O,O,O,O,O,O,O,O,O,O,O,O,B-per,O,O,...</td>\n",
       "    </tr>\n",
       "    <tr>\n",
       "      <th>2</th>\n",
       "      <td>They marched from the Houses of Parliament to ...</td>\n",
       "      <td>O,O,O,O,O,O,O,O,O,O,O,B-geo,I-geo,O</td>\n",
       "    </tr>\n",
       "    <tr>\n",
       "      <th>3</th>\n",
       "      <td>Police put the number of marchers at 10,000 wh...</td>\n",
       "      <td>O,O,O,O,O,O,O,O,O,O,O,O,O,O,O</td>\n",
       "    </tr>\n",
       "    <tr>\n",
       "      <th>4</th>\n",
       "      <td>The protest comes on the eve of the annual con...</td>\n",
       "      <td>O,O,O,O,O,O,O,O,O,O,O,B-geo,O,O,B-org,I-org,O,...</td>\n",
       "    </tr>\n",
       "  </tbody>\n",
       "</table>\n",
       "</div>"
      ]
     },
     "execution_count": 13,
     "metadata": {},
     "output_type": "execute_result"
    }
   ],
   "execution_count": 13
  },
  {
   "cell_type": "code",
   "metadata": {
    "id": "r3ArUiVRqw0C",
    "ExecuteTime": {
     "end_time": "2024-11-02T06:47:31.716808Z",
     "start_time": "2024-11-02T06:47:31.713005Z"
    }
   },
   "source": [
    "len(data)"
   ],
   "outputs": [
    {
     "data": {
      "text/plain": [
       "47571"
      ]
     },
     "execution_count": 14,
     "metadata": {},
     "output_type": "execute_result"
    }
   ],
   "execution_count": 14
  },
  {
   "cell_type": "markdown",
   "metadata": {
    "id": "U8obZumRTBrT"
   },
   "source": [
    "Let's verify that a random sentence and its corresponding tags are correct:"
   ]
  },
  {
   "cell_type": "code",
   "metadata": {
    "id": "eUvupomW_fbe",
    "ExecuteTime": {
     "end_time": "2024-11-02T06:47:31.841008Z",
     "start_time": "2024-11-02T06:47:31.837016Z"
    }
   },
   "source": [
    "data.iloc[41].sentence"
   ],
   "outputs": [
    {
     "data": {
      "text/plain": [
       "'Bedfordshire police said Tuesday that Omar Khayam was arrested in Bedford for breaching the conditions of his parole .'"
      ]
     },
     "execution_count": 15,
     "metadata": {},
     "output_type": "execute_result"
    }
   ],
   "execution_count": 15
  },
  {
   "cell_type": "code",
   "metadata": {
    "id": "0dLyY3Oi_lvp",
    "ExecuteTime": {
     "end_time": "2024-11-02T06:47:32.004174Z",
     "start_time": "2024-11-02T06:47:32.000880Z"
    }
   },
   "source": [
    "data.iloc[41].word_labels"
   ],
   "outputs": [
    {
     "data": {
      "text/plain": [
       "'B-gpe,O,O,B-tim,O,B-per,I-per,O,O,O,B-geo,O,O,O,O,O,O,O,O'"
      ]
     },
     "execution_count": 16,
     "metadata": {},
     "output_type": "execute_result"
    }
   ],
   "execution_count": 16
  },
  {
   "cell_type": "markdown",
   "metadata": {
    "id": "f5EHpuB78pIa"
   },
   "source": [
    "#### **Preparing the dataset and dataloader**"
   ]
  },
  {
   "cell_type": "markdown",
   "metadata": {
    "id": "15x7zmZnTgFx"
   },
   "source": [
    "Now that our data is preprocessed, we can turn it into PyTorch tensors such that we can provide it to the model. Let's start by defining some key variables that will be used later on in the training/evaluation process:"
   ]
  },
  {
   "cell_type": "code",
   "metadata": {
    "id": "lgNSM8Xz79Mg",
    "tags": [],
    "ExecuteTime": {
     "end_time": "2024-11-02T06:47:33.239068Z",
     "start_time": "2024-11-02T06:47:32.029569Z"
    }
   },
   "source": [
    "MAX_LEN = 128  # the maximum number of tokens after a word segmentation\n",
    "TRAIN_BATCH_SIZE = 32  # When the size is greater than 32, the crf model becomes abnormal\n",
    "VALID_BATCH_SIZE = 32  # When the size is greater than 32, the crf model becomes abnormal\n",
    "EPOCHS = 1  # number of complete iterations\n",
    "LEARNING_RATE = 1e-5\n",
    "MAX_GRAD_NORM = 10  # gradient clipping\n",
    "tokenizer = BertTokenizerFast.from_pretrained('bert-base-uncased')  # 12-layer transformer encoder, 110M parameters, case insensitive."
   ],
   "outputs": [],
   "execution_count": 17
  },
  {
   "metadata": {
    "ExecuteTime": {
     "end_time": "2024-11-02T06:47:33.264882Z",
     "start_time": "2024-11-02T06:47:33.261584Z"
    }
   },
   "cell_type": "code",
   "source": "tokenizer",
   "outputs": [
    {
     "data": {
      "text/plain": [
       "BertTokenizerFast(name_or_path='bert-base-uncased', vocab_size=30522, model_max_length=512, is_fast=True, padding_side='right', truncation_side='right', special_tokens={'unk_token': '[UNK]', 'sep_token': '[SEP]', 'pad_token': '[PAD]', 'cls_token': '[CLS]', 'mask_token': '[MASK]'}, clean_up_tokenization_spaces=False),  added_tokens_decoder={\n",
       "\t0: AddedToken(\"[PAD]\", rstrip=False, lstrip=False, single_word=False, normalized=False, special=True),\n",
       "\t100: AddedToken(\"[UNK]\", rstrip=False, lstrip=False, single_word=False, normalized=False, special=True),\n",
       "\t101: AddedToken(\"[CLS]\", rstrip=False, lstrip=False, single_word=False, normalized=False, special=True),\n",
       "\t102: AddedToken(\"[SEP]\", rstrip=False, lstrip=False, single_word=False, normalized=False, special=True),\n",
       "\t103: AddedToken(\"[MASK]\", rstrip=False, lstrip=False, single_word=False, normalized=False, special=True),\n",
       "}"
      ]
     },
     "execution_count": 18,
     "metadata": {},
     "output_type": "execute_result"
    }
   ],
   "execution_count": 18
  },
  {
   "cell_type": "markdown",
   "metadata": {
    "id": "wPYV2Ld6Tr5I"
   },
   "source": [
    "A tricky part of NER with BERT is that BERT relies on **wordpiece tokenization**, rather than word tokenization. This means that we should also define the labels at the wordpiece-level, rather than the word-level!\n",
    "\n",
    "For example, if you have word like \"Washington\" which is labeled as \"b-gpe\", but it gets tokenized to \"Wash\", \"##ing\", \"##ton\", then one approach could be to handle this by only train the model on the tag labels for the first word piece token of a word (i.e. only label \"Wash\" with \"b-gpe\"). This is what was done in the original BERT paper, see Github discussion [here](https://github.com/huggingface/transformers/issues/64#issuecomment-443703063).\n",
    "\n",
    "Note that this is a **design decision**. You could also decide to propagate the original label of the word to all of its word pieces and let the model train on this. In that case, the model should be able to produce the correct labels for each individual wordpiece. This was done in [this NER tutorial with BERT](https://github.com/chambliss/Multilingual_NER/blob/master/python/utils/main_utils.py#L118). Another design decision could be to give the first wordpiece of each word the original word label, and then use the label “X” for all subsequent subwords of that word. All of them seem to lead to good performance.\n",
    "\n",
    "Below, we define a regular PyTorch [dataset class](https://pytorch.org/docs/stable/data.html) (which transforms examples of a dataframe to PyTorch tensors). Here, each sentence gets tokenized, the special tokens that BERT expects are added, the tokens are padded or truncated based on the max length of the model, the attention mask is created and the labels are created based on the dictionary which we defined above. Word pieces that should be ignored have a label of -100 (which is the default `ignore_index` of PyTorch's [CrossEntropyLoss](https://pytorch.org/docs/stable/generated/torch.nn.CrossEntropyLoss.html)).\n",
    "\n",
    "For more information about BERT's inputs, see [here](https://huggingface.co/transformers/glossary.html).\n",
    "\n",
    "\n",
    "\n",
    "\n",
    "\n",
    "\n"
   ]
  },
  {
   "cell_type": "code",
   "metadata": {
    "id": "Eh3ckSO0YMZW",
    "ExecuteTime": {
     "end_time": "2024-11-02T06:47:33.300366Z",
     "start_time": "2024-11-02T06:47:33.296346Z"
    }
   },
   "source": [
    "class BERTDataset(Dataset):\n",
    "    def __init__(self, dataframe, tokenizer, max_len) -> None:\n",
    "        self.len = len(dataframe)\n",
    "        self.data = dataframe\n",
    "        self.tokenizer = tokenizer\n",
    "        self.max_len = max_len\n",
    "\n",
    "    def __getitem__(self, index) -> dict:\n",
    "        # step 1: get the sentence and word labels\n",
    "        sentence = self.data.sentence[index].strip().split()\n",
    "        word_labels = self.data.word_labels[index].split(',')\n",
    "\n",
    "        # step 2: use tokenizer to encode sentence (includes padding/truncation up to max length)\n",
    "        # BertTokenizerFast provides a handy \"return_offsets_mapping\" functionality for individual tokens\n",
    "        encoding = self.tokenizer(sentence,  # the input object to be encoded\n",
    "                                  is_split_into_words=True,  # the sentence has been separated by word\n",
    "                                  return_offsets_mapping=True,  # the position of each token is offset in the original sentence\n",
    "                                  padding='max_length',  # fills the sentence to the specified maximum length, using [PAD]\n",
    "                                  truncation=True,  # if the sentence length exceeds max_length, the excess is truncated\n",
    "                                  max_length=self.max_len,  # sets the maximum length of the sentence\n",
    "                                  )\n",
    "\n",
    "        # step 3: create token labels only for first word pieces of each tokenized word\n",
    "        labels = [labels_to_ids[label] for label in word_labels]\n",
    "        # code based on https://huggingface.co/transformers/custom_datasets.html#tok-ner\n",
    "        # create an empty array of -100 of length max_length\n",
    "        # pytorch loss ignores label with -100,\n",
    "        # see https://pytorch.org/docs/stable/generated/torch.nn.CrossEntropyLoss.html\n",
    "        encoded_labels = np.ones(len(encoding['offset_mapping']), dtype=int) * -100\n",
    "\n",
    "        # set only labels whose first offset position is 0 and the second is not 0\n",
    "        i = 0\n",
    "        for idx, mapping in enumerate(encoding['offset_mapping']):\n",
    "            if mapping[0] == 0 and mapping[1] != 0:\n",
    "                # overwrite label\n",
    "                encoded_labels[idx] = labels[i]\n",
    "                i += 1\n",
    "\n",
    "        # step 4: turn everything into PyTorch tensors\n",
    "        item = {key: torch.as_tensor(val) for key, val in encoding.items()}\n",
    "        item['labels'] = torch.as_tensor(encoded_labels)\n",
    "\n",
    "        return item\n",
    "\n",
    "    def __len__(self) -> int:\n",
    "        return self.len"
   ],
   "outputs": [],
   "execution_count": 19
  },
  {
   "cell_type": "markdown",
   "metadata": {
    "id": "hTP7zuWGWGUd"
   },
   "source": [
    "Now, based on the class we defined above, we can create 2 datasets, one for training and one for testing. Let's use a 80/20 split:"
   ]
  },
  {
   "cell_type": "code",
   "metadata": {
    "id": "jrkdZBLYHVcB",
    "tags": [],
    "ExecuteTime": {
     "end_time": "2024-11-02T06:47:33.345007Z",
     "start_time": "2024-11-02T06:47:33.336528Z"
    }
   },
   "source": [
    "train_size = 0.8\n",
    "train_dataset = data.sample(frac=train_size, random_state=200)  # Random seed: 200\n",
    "test_dataset = data.drop(train_dataset.index).reset_index(drop=True)\n",
    "train_dataset = train_dataset.reset_index(drop=True)\n",
    "\n",
    "print(f'FULL Dataset: {data.shape}')\n",
    "print(f'TRAIN Dataset: {train_dataset.shape}')\n",
    "print(f'TEST Dataset: {test_dataset.shape}')\n",
    "\n",
    "training_set = BERTDataset(train_dataset, tokenizer, MAX_LEN)\n",
    "testing_set = BERTDataset(test_dataset, tokenizer, MAX_LEN)"
   ],
   "outputs": [
    {
     "name": "stdout",
     "output_type": "stream",
     "text": [
      "FULL Dataset: (47571, 2)\n",
      "TRAIN Dataset: (38057, 2)\n",
      "TEST Dataset: (9514, 2)\n"
     ]
    }
   ],
   "execution_count": 20
  },
  {
   "cell_type": "markdown",
   "metadata": {
    "id": "Ptv5AT_iTb7W"
   },
   "source": [
    "Let's have a look at the first training example:"
   ]
  },
  {
   "cell_type": "code",
   "metadata": {
    "id": "phmPylgAm8Xy",
    "ExecuteTime": {
     "end_time": "2024-11-02T06:47:33.399256Z",
     "start_time": "2024-11-02T06:47:33.390513Z"
    }
   },
   "source": [
    "print(training_set[0])\n",
    "print(tokenizer.convert_ids_to_tokens(training_set[0]['input_ids']))"
   ],
   "outputs": [
    {
     "name": "stdout",
     "output_type": "stream",
     "text": [
      "{'input_ids': tensor([  101, 23564, 21030,  2099,  4967,  2001,  9388,  1011,  6109,  2005,\n",
      "         2634,  1012,   102,     0,     0,     0,     0,     0,     0,     0,\n",
      "            0,     0,     0,     0,     0,     0,     0,     0,     0,     0,\n",
      "            0,     0,     0,     0,     0,     0,     0,     0,     0,     0,\n",
      "            0,     0,     0,     0,     0,     0,     0,     0,     0,     0,\n",
      "            0,     0,     0,     0,     0,     0,     0,     0,     0,     0,\n",
      "            0,     0,     0,     0,     0,     0,     0,     0,     0,     0,\n",
      "            0,     0,     0,     0,     0,     0,     0,     0,     0,     0,\n",
      "            0,     0,     0,     0,     0,     0,     0,     0,     0,     0,\n",
      "            0,     0,     0,     0,     0,     0,     0,     0,     0,     0,\n",
      "            0,     0,     0,     0,     0,     0,     0,     0,     0,     0,\n",
      "            0,     0,     0,     0,     0,     0,     0,     0,     0,     0,\n",
      "            0,     0,     0,     0,     0,     0,     0,     0]), 'token_type_ids': tensor([0, 0, 0, 0, 0, 0, 0, 0, 0, 0, 0, 0, 0, 0, 0, 0, 0, 0, 0, 0, 0, 0, 0, 0,\n",
      "        0, 0, 0, 0, 0, 0, 0, 0, 0, 0, 0, 0, 0, 0, 0, 0, 0, 0, 0, 0, 0, 0, 0, 0,\n",
      "        0, 0, 0, 0, 0, 0, 0, 0, 0, 0, 0, 0, 0, 0, 0, 0, 0, 0, 0, 0, 0, 0, 0, 0,\n",
      "        0, 0, 0, 0, 0, 0, 0, 0, 0, 0, 0, 0, 0, 0, 0, 0, 0, 0, 0, 0, 0, 0, 0, 0,\n",
      "        0, 0, 0, 0, 0, 0, 0, 0, 0, 0, 0, 0, 0, 0, 0, 0, 0, 0, 0, 0, 0, 0, 0, 0,\n",
      "        0, 0, 0, 0, 0, 0, 0, 0]), 'attention_mask': tensor([1, 1, 1, 1, 1, 1, 1, 1, 1, 1, 1, 1, 1, 0, 0, 0, 0, 0, 0, 0, 0, 0, 0, 0,\n",
      "        0, 0, 0, 0, 0, 0, 0, 0, 0, 0, 0, 0, 0, 0, 0, 0, 0, 0, 0, 0, 0, 0, 0, 0,\n",
      "        0, 0, 0, 0, 0, 0, 0, 0, 0, 0, 0, 0, 0, 0, 0, 0, 0, 0, 0, 0, 0, 0, 0, 0,\n",
      "        0, 0, 0, 0, 0, 0, 0, 0, 0, 0, 0, 0, 0, 0, 0, 0, 0, 0, 0, 0, 0, 0, 0, 0,\n",
      "        0, 0, 0, 0, 0, 0, 0, 0, 0, 0, 0, 0, 0, 0, 0, 0, 0, 0, 0, 0, 0, 0, 0, 0,\n",
      "        0, 0, 0, 0, 0, 0, 0, 0]), 'offset_mapping': tensor([[0, 0],\n",
      "        [0, 2],\n",
      "        [2, 5],\n",
      "        [5, 6],\n",
      "        [0, 4],\n",
      "        [0, 3],\n",
      "        [0, 3],\n",
      "        [3, 4],\n",
      "        [4, 6],\n",
      "        [0, 3],\n",
      "        [0, 5],\n",
      "        [0, 1],\n",
      "        [0, 0],\n",
      "        [0, 0],\n",
      "        [0, 0],\n",
      "        [0, 0],\n",
      "        [0, 0],\n",
      "        [0, 0],\n",
      "        [0, 0],\n",
      "        [0, 0],\n",
      "        [0, 0],\n",
      "        [0, 0],\n",
      "        [0, 0],\n",
      "        [0, 0],\n",
      "        [0, 0],\n",
      "        [0, 0],\n",
      "        [0, 0],\n",
      "        [0, 0],\n",
      "        [0, 0],\n",
      "        [0, 0],\n",
      "        [0, 0],\n",
      "        [0, 0],\n",
      "        [0, 0],\n",
      "        [0, 0],\n",
      "        [0, 0],\n",
      "        [0, 0],\n",
      "        [0, 0],\n",
      "        [0, 0],\n",
      "        [0, 0],\n",
      "        [0, 0],\n",
      "        [0, 0],\n",
      "        [0, 0],\n",
      "        [0, 0],\n",
      "        [0, 0],\n",
      "        [0, 0],\n",
      "        [0, 0],\n",
      "        [0, 0],\n",
      "        [0, 0],\n",
      "        [0, 0],\n",
      "        [0, 0],\n",
      "        [0, 0],\n",
      "        [0, 0],\n",
      "        [0, 0],\n",
      "        [0, 0],\n",
      "        [0, 0],\n",
      "        [0, 0],\n",
      "        [0, 0],\n",
      "        [0, 0],\n",
      "        [0, 0],\n",
      "        [0, 0],\n",
      "        [0, 0],\n",
      "        [0, 0],\n",
      "        [0, 0],\n",
      "        [0, 0],\n",
      "        [0, 0],\n",
      "        [0, 0],\n",
      "        [0, 0],\n",
      "        [0, 0],\n",
      "        [0, 0],\n",
      "        [0, 0],\n",
      "        [0, 0],\n",
      "        [0, 0],\n",
      "        [0, 0],\n",
      "        [0, 0],\n",
      "        [0, 0],\n",
      "        [0, 0],\n",
      "        [0, 0],\n",
      "        [0, 0],\n",
      "        [0, 0],\n",
      "        [0, 0],\n",
      "        [0, 0],\n",
      "        [0, 0],\n",
      "        [0, 0],\n",
      "        [0, 0],\n",
      "        [0, 0],\n",
      "        [0, 0],\n",
      "        [0, 0],\n",
      "        [0, 0],\n",
      "        [0, 0],\n",
      "        [0, 0],\n",
      "        [0, 0],\n",
      "        [0, 0],\n",
      "        [0, 0],\n",
      "        [0, 0],\n",
      "        [0, 0],\n",
      "        [0, 0],\n",
      "        [0, 0],\n",
      "        [0, 0],\n",
      "        [0, 0],\n",
      "        [0, 0],\n",
      "        [0, 0],\n",
      "        [0, 0],\n",
      "        [0, 0],\n",
      "        [0, 0],\n",
      "        [0, 0],\n",
      "        [0, 0],\n",
      "        [0, 0],\n",
      "        [0, 0],\n",
      "        [0, 0],\n",
      "        [0, 0],\n",
      "        [0, 0],\n",
      "        [0, 0],\n",
      "        [0, 0],\n",
      "        [0, 0],\n",
      "        [0, 0],\n",
      "        [0, 0],\n",
      "        [0, 0],\n",
      "        [0, 0],\n",
      "        [0, 0],\n",
      "        [0, 0],\n",
      "        [0, 0],\n",
      "        [0, 0],\n",
      "        [0, 0],\n",
      "        [0, 0],\n",
      "        [0, 0],\n",
      "        [0, 0],\n",
      "        [0, 0],\n",
      "        [0, 0]]), 'labels': tensor([-100,    3, -100, -100,    8,    0,    0, -100, -100,    0,    1,    0,\n",
      "        -100, -100, -100, -100, -100, -100, -100, -100, -100, -100, -100, -100,\n",
      "        -100, -100, -100, -100, -100, -100, -100, -100, -100, -100, -100, -100,\n",
      "        -100, -100, -100, -100, -100, -100, -100, -100, -100, -100, -100, -100,\n",
      "        -100, -100, -100, -100, -100, -100, -100, -100, -100, -100, -100, -100,\n",
      "        -100, -100, -100, -100, -100, -100, -100, -100, -100, -100, -100, -100,\n",
      "        -100, -100, -100, -100, -100, -100, -100, -100, -100, -100, -100, -100,\n",
      "        -100, -100, -100, -100, -100, -100, -100, -100, -100, -100, -100, -100,\n",
      "        -100, -100, -100, -100, -100, -100, -100, -100, -100, -100, -100, -100,\n",
      "        -100, -100, -100, -100, -100, -100, -100, -100, -100, -100, -100, -100,\n",
      "        -100, -100, -100, -100, -100, -100, -100, -100], dtype=torch.int32)}\n",
      "['[CLS]', 'za', '##hee', '##r', 'khan', 'was', 'mar', '-', '93', 'for', 'india', '.', '[SEP]', '[PAD]', '[PAD]', '[PAD]', '[PAD]', '[PAD]', '[PAD]', '[PAD]', '[PAD]', '[PAD]', '[PAD]', '[PAD]', '[PAD]', '[PAD]', '[PAD]', '[PAD]', '[PAD]', '[PAD]', '[PAD]', '[PAD]', '[PAD]', '[PAD]', '[PAD]', '[PAD]', '[PAD]', '[PAD]', '[PAD]', '[PAD]', '[PAD]', '[PAD]', '[PAD]', '[PAD]', '[PAD]', '[PAD]', '[PAD]', '[PAD]', '[PAD]', '[PAD]', '[PAD]', '[PAD]', '[PAD]', '[PAD]', '[PAD]', '[PAD]', '[PAD]', '[PAD]', '[PAD]', '[PAD]', '[PAD]', '[PAD]', '[PAD]', '[PAD]', '[PAD]', '[PAD]', '[PAD]', '[PAD]', '[PAD]', '[PAD]', '[PAD]', '[PAD]', '[PAD]', '[PAD]', '[PAD]', '[PAD]', '[PAD]', '[PAD]', '[PAD]', '[PAD]', '[PAD]', '[PAD]', '[PAD]', '[PAD]', '[PAD]', '[PAD]', '[PAD]', '[PAD]', '[PAD]', '[PAD]', '[PAD]', '[PAD]', '[PAD]', '[PAD]', '[PAD]', '[PAD]', '[PAD]', '[PAD]', '[PAD]', '[PAD]', '[PAD]', '[PAD]', '[PAD]', '[PAD]', '[PAD]', '[PAD]', '[PAD]', '[PAD]', '[PAD]', '[PAD]', '[PAD]', '[PAD]', '[PAD]', '[PAD]', '[PAD]', '[PAD]', '[PAD]', '[PAD]', '[PAD]', '[PAD]', '[PAD]', '[PAD]', '[PAD]', '[PAD]', '[PAD]', '[PAD]', '[PAD]', '[PAD]']\n"
     ]
    }
   ],
   "execution_count": 21
  },
  {
   "cell_type": "markdown",
   "metadata": {
    "id": "VvU4nzL2W2Xo"
   },
   "source": [
    "Let's verify that the input ids and corresponding targets are correct:"
   ]
  },
  {
   "cell_type": "code",
   "metadata": {
    "id": "DWgnNJrYW2GP",
    "tags": [],
    "ExecuteTime": {
     "end_time": "2024-11-02T06:47:33.445213Z",
     "start_time": "2024-11-02T06:47:33.440373Z"
    }
   },
   "source": [
    "for token, label in zip(tokenizer.convert_ids_to_tokens(training_set[0]['input_ids']), training_set[0]['labels']):\n",
    "    print(f'{token:10}: {label}')"
   ],
   "outputs": [
    {
     "name": "stdout",
     "output_type": "stream",
     "text": [
      "[CLS]     : -100\n",
      "za        : 3\n",
      "##hee     : -100\n",
      "##r       : -100\n",
      "khan      : 8\n",
      "was       : 0\n",
      "mar       : 0\n",
      "-         : -100\n",
      "93        : -100\n",
      "for       : 0\n",
      "india     : 1\n",
      ".         : 0\n",
      "[SEP]     : -100\n",
      "[PAD]     : -100\n",
      "[PAD]     : -100\n",
      "[PAD]     : -100\n",
      "[PAD]     : -100\n",
      "[PAD]     : -100\n",
      "[PAD]     : -100\n",
      "[PAD]     : -100\n",
      "[PAD]     : -100\n",
      "[PAD]     : -100\n",
      "[PAD]     : -100\n",
      "[PAD]     : -100\n",
      "[PAD]     : -100\n",
      "[PAD]     : -100\n",
      "[PAD]     : -100\n",
      "[PAD]     : -100\n",
      "[PAD]     : -100\n",
      "[PAD]     : -100\n",
      "[PAD]     : -100\n",
      "[PAD]     : -100\n",
      "[PAD]     : -100\n",
      "[PAD]     : -100\n",
      "[PAD]     : -100\n",
      "[PAD]     : -100\n",
      "[PAD]     : -100\n",
      "[PAD]     : -100\n",
      "[PAD]     : -100\n",
      "[PAD]     : -100\n",
      "[PAD]     : -100\n",
      "[PAD]     : -100\n",
      "[PAD]     : -100\n",
      "[PAD]     : -100\n",
      "[PAD]     : -100\n",
      "[PAD]     : -100\n",
      "[PAD]     : -100\n",
      "[PAD]     : -100\n",
      "[PAD]     : -100\n",
      "[PAD]     : -100\n",
      "[PAD]     : -100\n",
      "[PAD]     : -100\n",
      "[PAD]     : -100\n",
      "[PAD]     : -100\n",
      "[PAD]     : -100\n",
      "[PAD]     : -100\n",
      "[PAD]     : -100\n",
      "[PAD]     : -100\n",
      "[PAD]     : -100\n",
      "[PAD]     : -100\n",
      "[PAD]     : -100\n",
      "[PAD]     : -100\n",
      "[PAD]     : -100\n",
      "[PAD]     : -100\n",
      "[PAD]     : -100\n",
      "[PAD]     : -100\n",
      "[PAD]     : -100\n",
      "[PAD]     : -100\n",
      "[PAD]     : -100\n",
      "[PAD]     : -100\n",
      "[PAD]     : -100\n",
      "[PAD]     : -100\n",
      "[PAD]     : -100\n",
      "[PAD]     : -100\n",
      "[PAD]     : -100\n",
      "[PAD]     : -100\n",
      "[PAD]     : -100\n",
      "[PAD]     : -100\n",
      "[PAD]     : -100\n",
      "[PAD]     : -100\n",
      "[PAD]     : -100\n",
      "[PAD]     : -100\n",
      "[PAD]     : -100\n",
      "[PAD]     : -100\n",
      "[PAD]     : -100\n",
      "[PAD]     : -100\n",
      "[PAD]     : -100\n",
      "[PAD]     : -100\n",
      "[PAD]     : -100\n",
      "[PAD]     : -100\n",
      "[PAD]     : -100\n",
      "[PAD]     : -100\n",
      "[PAD]     : -100\n",
      "[PAD]     : -100\n",
      "[PAD]     : -100\n",
      "[PAD]     : -100\n",
      "[PAD]     : -100\n",
      "[PAD]     : -100\n",
      "[PAD]     : -100\n",
      "[PAD]     : -100\n",
      "[PAD]     : -100\n",
      "[PAD]     : -100\n",
      "[PAD]     : -100\n",
      "[PAD]     : -100\n",
      "[PAD]     : -100\n",
      "[PAD]     : -100\n",
      "[PAD]     : -100\n",
      "[PAD]     : -100\n",
      "[PAD]     : -100\n",
      "[PAD]     : -100\n",
      "[PAD]     : -100\n",
      "[PAD]     : -100\n",
      "[PAD]     : -100\n",
      "[PAD]     : -100\n",
      "[PAD]     : -100\n",
      "[PAD]     : -100\n",
      "[PAD]     : -100\n",
      "[PAD]     : -100\n",
      "[PAD]     : -100\n",
      "[PAD]     : -100\n",
      "[PAD]     : -100\n",
      "[PAD]     : -100\n",
      "[PAD]     : -100\n",
      "[PAD]     : -100\n",
      "[PAD]     : -100\n",
      "[PAD]     : -100\n",
      "[PAD]     : -100\n",
      "[PAD]     : -100\n"
     ]
    }
   ],
   "execution_count": 22
  },
  {
   "cell_type": "markdown",
   "metadata": {
    "id": "Ky68FcTgWnfN"
   },
   "source": [
    "Now, let's define the corresponding PyTorch dataloaders:"
   ]
  },
  {
   "cell_type": "code",
   "metadata": {
    "id": "KIw793myWOmi",
    "ExecuteTime": {
     "end_time": "2024-11-02T06:47:33.502177Z",
     "start_time": "2024-11-02T06:47:33.498676Z"
    }
   },
   "source": [
    "train_params = {'batch_size': TRAIN_BATCH_SIZE,\n",
    "                'shuffle': True,\n",
    "                'num_workers': 0,  # no additional child processes are used\n",
    "                }\n",
    "\n",
    "test_params = {'batch_size': VALID_BATCH_SIZE,\n",
    "               'shuffle': True,\n",
    "               'num_workers': 0,  # no additional child processes are used\n",
    "               }\n",
    "\n",
    "training_loader = DataLoader(training_set, **train_params)\n",
    "testing_loader = DataLoader(testing_set, **test_params)"
   ],
   "outputs": [],
   "execution_count": 23
  },
  {
   "cell_type": "markdown",
   "metadata": {
    "id": "73OzU7oXRxR8"
   },
   "source": [
    "#### **Defining the model**"
   ]
  },
  {
   "cell_type": "markdown",
   "metadata": {
    "id": "T-iGhnhdLNdP"
   },
   "source": [
    "Here we define the model, BertForTokenClassification, and load it with the pretrained weights of \"bert-base-uncased\". The only thing we need to additionally specify is the number of labels (as this will determine the architecture of the classification head).\n",
    "\n",
    "Note that only the base layers are initialized with the pretrained weights. The token classification head of top has just randomly initialized weights, which we will train, together with the pretrained weights, using our labelled dataset. This is also printed as a warning when you run the code cell below.\n",
    "\n",
    "Then, we move the model to the GPU."
   ]
  },
  {
   "cell_type": "code",
   "metadata": {
    "id": "cB9MR3KcWXUs",
    "tags": [],
    "ExecuteTime": {
     "end_time": "2024-11-02T06:47:34.639213Z",
     "start_time": "2024-11-02T06:47:33.538034Z"
    }
   },
   "source": [
    "model = BertForTokenClassification.from_pretrained('bert-base-uncased', num_labels=len(labels_to_ids))\n",
    "model.to(device)"
   ],
   "outputs": [
    {
     "name": "stderr",
     "output_type": "stream",
     "text": [
      "Some weights of BertForTokenClassification were not initialized from the model checkpoint at bert-base-uncased and are newly initialized: ['classifier.bias', 'classifier.weight']\n",
      "You should probably TRAIN this model on a down-stream task to be able to use it for predictions and inference.\n"
     ]
    },
    {
     "data": {
      "text/plain": [
       "BertForTokenClassification(\n",
       "  (bert): BertModel(\n",
       "    (embeddings): BertEmbeddings(\n",
       "      (word_embeddings): Embedding(30522, 768, padding_idx=0)\n",
       "      (position_embeddings): Embedding(512, 768)\n",
       "      (token_type_embeddings): Embedding(2, 768)\n",
       "      (LayerNorm): LayerNorm((768,), eps=1e-12, elementwise_affine=True)\n",
       "      (dropout): Dropout(p=0.1, inplace=False)\n",
       "    )\n",
       "    (encoder): BertEncoder(\n",
       "      (layer): ModuleList(\n",
       "        (0-11): 12 x BertLayer(\n",
       "          (attention): BertAttention(\n",
       "            (self): BertSdpaSelfAttention(\n",
       "              (query): Linear(in_features=768, out_features=768, bias=True)\n",
       "              (key): Linear(in_features=768, out_features=768, bias=True)\n",
       "              (value): Linear(in_features=768, out_features=768, bias=True)\n",
       "              (dropout): Dropout(p=0.1, inplace=False)\n",
       "            )\n",
       "            (output): BertSelfOutput(\n",
       "              (dense): Linear(in_features=768, out_features=768, bias=True)\n",
       "              (LayerNorm): LayerNorm((768,), eps=1e-12, elementwise_affine=True)\n",
       "              (dropout): Dropout(p=0.1, inplace=False)\n",
       "            )\n",
       "          )\n",
       "          (intermediate): BertIntermediate(\n",
       "            (dense): Linear(in_features=768, out_features=3072, bias=True)\n",
       "            (intermediate_act_fn): GELUActivation()\n",
       "          )\n",
       "          (output): BertOutput(\n",
       "            (dense): Linear(in_features=3072, out_features=768, bias=True)\n",
       "            (LayerNorm): LayerNorm((768,), eps=1e-12, elementwise_affine=True)\n",
       "            (dropout): Dropout(p=0.1, inplace=False)\n",
       "          )\n",
       "        )\n",
       "      )\n",
       "    )\n",
       "  )\n",
       "  (dropout): Dropout(p=0.1, inplace=False)\n",
       "  (classifier): Linear(in_features=768, out_features=11, bias=True)\n",
       ")"
      ]
     },
     "execution_count": 24,
     "metadata": {},
     "output_type": "execute_result"
    }
   ],
   "execution_count": 24
  },
  {
   "cell_type": "markdown",
   "metadata": {
    "id": "Pp7Yl4JyWhDj"
   },
   "source": [
    "#### **Training the model**\n",
    "\n",
    "Before training the model, let's perform a sanity check, which I learned thanks to Andrej Karpathy's wonderful [cs231n course](http://cs231n.stanford.edu/) at Stanford (see also his [blog post about debugging neural networks](http://karpathy.github.io/2019/04/25/recipe/)). The initial loss of your model should be close to -ln(1/number of classes) = -ln(1/17) = 2.83.\n",
    "\n",
    "Why? Because we are using cross entropy loss. The cross entropy loss is defined as -ln(probability score of the model for the correct class). In the beginning, the weights are random, so the probability distribution for all of the classes for a given token will be uniform, meaning that the probability for the correct class will be near 1/17. The loss for a given token will thus be -ln(1/17). As PyTorch's [CrossEntropyLoss](https://pytorch.org/docs/stable/generated/torch.nn.CrossEntropyLoss.html) (which is used by `BertForTokenClassification`) uses *mean reduction* by default, it will compute the mean loss for each of the tokens in the sequence for which a label is provided.\n",
    "\n",
    "Let's verify this:\n",
    "\n"
   ]
  },
  {
   "cell_type": "code",
   "metadata": {
    "id": "eqAN7YVIjKTr",
    "ExecuteTime": {
     "end_time": "2024-11-02T06:47:34.846531Z",
     "start_time": "2024-11-02T06:47:34.673385Z"
    }
   },
   "source": [
    "inputs = training_set[4]\n",
    "input_ids = inputs['input_ids'].unsqueeze(0)\n",
    "attention_mask = inputs['attention_mask'].unsqueeze(0)\n",
    "labels = inputs['labels'].unsqueeze(0)\n",
    "input_ids = input_ids.to(device).long()\n",
    "attention_mask = attention_mask.to(device).long()\n",
    "labels = labels.to(device).long()\n",
    "\n",
    "outputs = model(input_ids, attention_mask=attention_mask, labels=labels)\n",
    "initial_loss = outputs[0]\n",
    "initial_loss"
   ],
   "outputs": [
    {
     "name": "stderr",
     "output_type": "stream",
     "text": [
      "C:\\Users\\Kevin\\AppData\\Roaming\\Python\\Python312\\site-packages\\transformers\\models\\bert\\modeling_bert.py:440: UserWarning: 1Torch was not compiled with flash attention. (Triggered internally at C:\\actions-runner\\_work\\pytorch\\pytorch\\builder\\windows\\pytorch\\aten\\src\\ATen\\native\\transformers\\cuda\\sdp_utils.cpp:555.)\n",
      "  attn_output = torch.nn.functional.scaled_dot_product_attention(\n"
     ]
    },
    {
     "data": {
      "text/plain": [
       "tensor(2.5468, device='cuda:0', grad_fn=<NllLossBackward0>)"
      ]
     },
     "execution_count": 25,
     "metadata": {},
     "output_type": "execute_result"
    }
   ],
   "execution_count": 25
  },
  {
   "cell_type": "markdown",
   "metadata": {
    "id": "yLdwsru9Mh7U"
   },
   "source": [
    "This looks good. Let's also verify that the logits of the neural network have a shape of (batch_size, sequence_length, num_labels):"
   ]
  },
  {
   "cell_type": "code",
   "metadata": {
    "id": "X-z6YCpGnvfj",
    "ExecuteTime": {
     "end_time": "2024-11-02T06:47:34.897009Z",
     "start_time": "2024-11-02T06:47:34.894252Z"
    }
   },
   "source": [
    "tr_logits = outputs[1]\n",
    "tr_logits.shape"
   ],
   "outputs": [
    {
     "data": {
      "text/plain": [
       "torch.Size([1, 128, 11])"
      ]
     },
     "execution_count": 26,
     "metadata": {},
     "output_type": "execute_result"
    }
   ],
   "execution_count": 26
  },
  {
   "cell_type": "markdown",
   "metadata": {
    "id": "kwDLXxOVOCvD"
   },
   "source": [
    "Next, we define the optimizer. Here, we are just going to use Adam with a default learning rate. One can also decide to use more advanced ones such as AdamW (Adam with weight decay fix), which is [included](https://huggingface.co/transformers/main_classes/optimizer_schedules.html) in the Transformers repository, and a learning rate scheduler, but we are not going to do that here."
   ]
  },
  {
   "metadata": {
    "ExecuteTime": {
     "end_time": "2024-11-02T06:47:34.960087Z",
     "start_time": "2024-11-02T06:47:34.952755Z"
    }
   },
   "cell_type": "code",
   "source": "outputs",
   "outputs": [
    {
     "data": {
      "text/plain": [
       "TokenClassifierOutput(loss=tensor(2.5468, device='cuda:0', grad_fn=<NllLossBackward0>), logits=tensor([[[-0.4162, -0.0554, -0.1300,  ..., -0.1524,  0.0176, -0.1124],\n",
       "         [-0.5697, -0.1318, -0.2581,  ..., -0.1561, -0.0535, -0.2322],\n",
       "         [-0.6135, -0.0626,  0.0281,  ..., -0.1814, -0.0653, -0.1241],\n",
       "         ...,\n",
       "         [-0.6126, -0.2419,  0.2971,  ..., -0.0345, -0.0652, -0.1496],\n",
       "         [-0.6661, -0.6034,  0.3120,  ..., -0.0929, -0.4435, -0.1627],\n",
       "         [-0.4958, -0.2259,  0.2611,  ..., -0.0214,  0.0119, -0.1632]]],\n",
       "       device='cuda:0', grad_fn=<ViewBackward0>), hidden_states=None, attentions=None)"
      ]
     },
     "execution_count": 27,
     "metadata": {},
     "output_type": "execute_result"
    }
   ],
   "execution_count": 27
  },
  {
   "cell_type": "code",
   "metadata": {
    "id": "kznSQfGIWdU4",
    "ExecuteTime": {
     "end_time": "2024-11-02T06:47:34.990878Z",
     "start_time": "2024-11-02T06:47:34.987732Z"
    }
   },
   "source": [
    "optimizer = torch.optim.Adam(params=model.parameters(), lr=LEARNING_RATE)"
   ],
   "outputs": [],
   "execution_count": 28
  },
  {
   "cell_type": "code",
   "metadata": {
    "id": "GLFivpkwW1HY",
    "ExecuteTime": {
     "end_time": "2024-11-02T06:47:35.010876Z",
     "start_time": "2024-11-02T06:47:35.006167Z"
    }
   },
   "source": [
    "# Defining the training function on the 80% of the dataset for tuning the bert model\n",
    "def train(training_loader) -> None:\n",
    "    tr_loss, tr_accuracy = 0, 0  # training loss and training accuracy\n",
    "    nb_tr_examples, nb_tr_steps = 0, 0  # the number of training samples and training steps\n",
    "    tr_preds, tr_labels = [], []  # stores prediction labels and real labels\n",
    "    # put model in training mode\n",
    "    model.train()\n",
    "\n",
    "    for idx, batch in enumerate(training_loader):\n",
    "        \n",
    "        ids = batch['input_ids'].to(device, dtype=torch.long)\n",
    "        mask = batch['attention_mask'].to(device, dtype=torch.long)\n",
    "        labels = batch['labels'].to(device, dtype=torch.long)\n",
    "\n",
    "        outputs = model(input_ids=ids, attention_mask=mask, labels=labels)  # forward propagation\n",
    "        loss = outputs[0]  # extract loss value\n",
    "        tr_logits = outputs[1]  # extract logits\n",
    "        tr_loss += loss.item()  # add up the loss of the current batch\n",
    "\n",
    "        nb_tr_steps += 1  # update the training step count\n",
    "        nb_tr_examples += labels.size(0)  # Update the number of training samples\n",
    "\n",
    "        if idx % 10 == 0:  # print training losses every 10 steps\n",
    "            loss_step = tr_loss / nb_tr_steps\n",
    "            print(f'Training loss per 10 training steps: {loss_step}')\n",
    "\n",
    "        # compute training accuracy\n",
    "        flattened_targets = labels.view(-1)  # shape (batch_size * seq_len)\n",
    "        active_logits = tr_logits.view(-1, model.num_labels)  # shape (batch_size * seq_len, num_labels)\n",
    "        flattened_predictions = torch.argmax(active_logits, dim=1)  # shape (batch_size * seq_len)\n",
    "\n",
    "        # only compute accuracy at active labels\n",
    "        active_accuracy = labels.view(-1) != -100  # shape (batch_size, seq_len)\n",
    "        #active_labels = torch.where(active_accuracy, labels.view(-1), torch.tensor(-100).type_as(labels))\n",
    "\n",
    "        labels = torch.masked_select(flattened_targets, active_accuracy)\n",
    "        predictions = torch.masked_select(flattened_predictions, active_accuracy)\n",
    "\n",
    "        tr_labels.extend(labels)\n",
    "        tr_preds.extend(predictions)\n",
    "\n",
    "        tmp_tr_accuracy = accuracy_score(labels.cpu().numpy(), predictions.cpu().numpy())\n",
    "        tr_accuracy += tmp_tr_accuracy\n",
    "\n",
    "        # gradient clipping\n",
    "        torch.nn.utils.clip_grad_norm_(parameters=model.parameters(), max_norm=MAX_GRAD_NORM)\n",
    "\n",
    "        # backward pass\n",
    "        optimizer.zero_grad()\n",
    "        loss.backward()\n",
    "        optimizer.step()\n",
    "\n",
    "    epoch_loss = tr_loss / nb_tr_steps\n",
    "    tr_accuracy = tr_accuracy / nb_tr_steps\n",
    "    print(f'Training loss epoch: {epoch_loss}')\n",
    "    print(f'Training accuracy epoch: {tr_accuracy}')"
   ],
   "outputs": [],
   "execution_count": 29
  },
  {
   "cell_type": "markdown",
   "metadata": {
    "id": "k2dsCyP7dcF3"
   },
   "source": [
    "And let's train the model!"
   ]
  },
  {
   "cell_type": "code",
   "metadata": {
    "id": "y07Ybw8rZeZ7",
    "tags": [],
    "ExecuteTime": {
     "end_time": "2024-11-02T06:50:31.205806Z",
     "start_time": "2024-11-02T06:47:35.024070Z"
    }
   },
   "source": [
    "for epoch in range(EPOCHS):\n",
    "    print(f'Training epoch: {epoch + 1}')\n",
    "    train(training_loader)"
   ],
   "outputs": [
    {
     "name": "stdout",
     "output_type": "stream",
     "text": [
      "Training epoch: 1\n",
      "Training loss per 10 training steps: 2.699167490005493\n",
      "Training loss per 10 training steps: 2.124142061580311\n",
      "Training loss per 10 training steps: 1.6388195838247026\n",
      "Training loss per 10 training steps: 1.3549579285806226\n",
      "Training loss per 10 training steps: 1.1922385939737645\n",
      "Training loss per 10 training steps: 1.0868194921343934\n",
      "Training loss per 10 training steps: 1.0010376259928844\n",
      "Training loss per 10 training steps: 0.9323209524154663\n",
      "Training loss per 10 training steps: 0.8728653770170094\n",
      "Training loss per 10 training steps: 0.8224589978600596\n",
      "Training loss per 10 training steps: 0.7781606331320092\n",
      "Training loss per 10 training steps: 0.7376847025510427\n",
      "Training loss per 10 training steps: 0.7041786741619268\n",
      "Training loss per 10 training steps: 0.6770353337735621\n",
      "Training loss per 10 training steps: 0.6488492777372928\n",
      "Training loss per 10 training steps: 0.6233522370951066\n",
      "Training loss per 10 training steps: 0.6025709700510369\n",
      "Training loss per 10 training steps: 0.5831768471769422\n",
      "Training loss per 10 training steps: 0.5638930921890459\n",
      "Training loss per 10 training steps: 0.5460648840166511\n",
      "Training loss per 10 training steps: 0.5299047276155272\n",
      "Training loss per 10 training steps: 0.5153707805403036\n",
      "Training loss per 10 training steps: 0.5019955559553604\n",
      "Training loss per 10 training steps: 0.48918338474773226\n",
      "Training loss per 10 training steps: 0.4770634045121086\n",
      "Training loss per 10 training steps: 0.4664601601689935\n",
      "Training loss per 10 training steps: 0.45570255941586474\n",
      "Training loss per 10 training steps: 0.44514393704733723\n",
      "Training loss per 10 training steps: 0.4356885585019173\n",
      "Training loss per 10 training steps: 0.42704621431036915\n",
      "Training loss per 10 training steps: 0.4184303246562267\n",
      "Training loss per 10 training steps: 0.41054544782331903\n",
      "Training loss per 10 training steps: 0.40347512785890766\n",
      "Training loss per 10 training steps: 0.3963735489416699\n",
      "Training loss per 10 training steps: 0.3895674643278821\n",
      "Training loss per 10 training steps: 0.38341773171879967\n",
      "Training loss per 10 training steps: 0.378133151876299\n",
      "Training loss per 10 training steps: 0.3722494036521552\n",
      "Training loss per 10 training steps: 0.36704116074119025\n",
      "Training loss per 10 training steps: 0.36168879935579834\n",
      "Training loss per 10 training steps: 0.356484517139241\n",
      "Training loss per 10 training steps: 0.35176472055868513\n",
      "Training loss per 10 training steps: 0.3469768981150663\n",
      "Training loss per 10 training steps: 0.3424081887246008\n",
      "Training loss per 10 training steps: 0.33766266105531834\n",
      "Training loss per 10 training steps: 0.3339070160677058\n",
      "Training loss per 10 training steps: 0.33031638777954203\n",
      "Training loss per 10 training steps: 0.3263580773951142\n",
      "Training loss per 10 training steps: 0.3225594021364458\n",
      "Training loss per 10 training steps: 0.31871323868662665\n",
      "Training loss per 10 training steps: 0.3151122322845126\n",
      "Training loss per 10 training steps: 0.31166714702508685\n",
      "Training loss per 10 training steps: 0.3088659390578343\n",
      "Training loss per 10 training steps: 0.30595146342691054\n",
      "Training loss per 10 training steps: 0.3030501752540937\n",
      "Training loss per 10 training steps: 0.29999077345790537\n",
      "Training loss per 10 training steps: 0.2974485318822232\n",
      "Training loss per 10 training steps: 0.29497030100763993\n",
      "Training loss per 10 training steps: 0.2923327282763594\n",
      "Training loss per 10 training steps: 0.28988850169678027\n",
      "Training loss per 10 training steps: 0.2873259387575648\n",
      "Training loss per 10 training steps: 0.2850747838640759\n",
      "Training loss per 10 training steps: 0.2827699907280013\n",
      "Training loss per 10 training steps: 0.2802686920233083\n",
      "Training loss per 10 training steps: 0.27796287570793804\n",
      "Training loss per 10 training steps: 0.2758194096672553\n",
      "Training loss per 10 training steps: 0.2737390455337588\n",
      "Training loss per 10 training steps: 0.2717679728783012\n",
      "Training loss per 10 training steps: 0.26980807051259514\n",
      "Training loss per 10 training steps: 0.26797176164328274\n",
      "Training loss per 10 training steps: 0.26596236229474296\n",
      "Training loss per 10 training steps: 0.26416002020617074\n",
      "Training loss per 10 training steps: 0.26223260992505015\n",
      "Training loss per 10 training steps: 0.2605716194371437\n",
      "Training loss per 10 training steps: 0.25879251286789634\n",
      "Training loss per 10 training steps: 0.2571396881419317\n",
      "Training loss per 10 training steps: 0.25548665760557376\n",
      "Training loss per 10 training steps: 0.25373980408261415\n",
      "Training loss per 10 training steps: 0.25215364077752134\n",
      "Training loss per 10 training steps: 0.25067206257400865\n",
      "Training loss per 10 training steps: 0.24912542968839593\n",
      "Training loss per 10 training steps: 0.24776237302731938\n",
      "Training loss per 10 training steps: 0.2463637899049307\n",
      "Training loss per 10 training steps: 0.24486442061788913\n",
      "Training loss per 10 training steps: 0.24356599087416061\n",
      "Training loss per 10 training steps: 0.24227835490126448\n",
      "Training loss per 10 training steps: 0.2411110050344578\n",
      "Training loss per 10 training steps: 0.23996914760664054\n",
      "Training loss per 10 training steps: 0.23879195902830627\n",
      "Training loss per 10 training steps: 0.2376517287291394\n",
      "Training loss per 10 training steps: 0.23636348840762983\n",
      "Training loss per 10 training steps: 0.23512901863007593\n",
      "Training loss per 10 training steps: 0.23395449176317448\n",
      "Training loss per 10 training steps: 0.2325825623119556\n",
      "Training loss per 10 training steps: 0.23153598126772232\n",
      "Training loss per 10 training steps: 0.23038684321346092\n",
      "Training loss per 10 training steps: 0.22934713105319318\n",
      "Training loss per 10 training steps: 0.22830061713496394\n",
      "Training loss per 10 training steps: 0.22721046805153927\n",
      "Training loss per 10 training steps: 0.22621431352437205\n",
      "Training loss per 10 training steps: 0.22505619466587617\n",
      "Training loss per 10 training steps: 0.22426532428899576\n",
      "Training loss per 10 training steps: 0.22328973251023676\n",
      "Training loss per 10 training steps: 0.222314549062607\n",
      "Training loss per 10 training steps: 0.22135862476558324\n",
      "Training loss per 10 training steps: 0.2204710506399\n",
      "Training loss per 10 training steps: 0.2196243524684814\n",
      "Training loss per 10 training steps: 0.21860274623463802\n",
      "Training loss per 10 training steps: 0.217858145249513\n",
      "Training loss per 10 training steps: 0.21703759262271696\n",
      "Training loss per 10 training steps: 0.21600894522019995\n",
      "Training loss per 10 training steps: 0.21521608899645073\n",
      "Training loss per 10 training steps: 0.21428185262045193\n",
      "Training loss per 10 training steps: 0.21359662929011278\n",
      "Training loss per 10 training steps: 0.2127785633834802\n",
      "Training loss per 10 training steps: 0.21208993946853458\n",
      "Training loss per 10 training steps: 0.211275674431592\n",
      "Training loss per 10 training steps: 0.21044625753233007\n",
      "Training loss per 10 training steps: 0.20974993089073599\n",
      "Training loss epoch: 0.20908910170385317\n",
      "Training accuracy epoch: 0.9432465642334767\n"
     ]
    }
   ],
   "execution_count": 30
  },
  {
   "cell_type": "markdown",
   "metadata": {
    "id": "r4jcSOJr680a"
   },
   "source": [
    "#### **Evaluating the model**"
   ]
  },
  {
   "cell_type": "markdown",
   "metadata": {
    "id": "rYUTuOEUdfFJ"
   },
   "source": [
    "Now that we've trained our model, we can evaluate its performance on the held-out test set (which is 20% of the data). Note that here, no gradient updates are performed, the model just outputs its logits."
   ]
  },
  {
   "cell_type": "code",
   "metadata": {
    "id": "RIVVfFHi7Aw7",
    "ExecuteTime": {
     "end_time": "2024-11-02T06:50:31.215167Z",
     "start_time": "2024-11-02T06:50:31.209189Z"
    }
   },
   "source": [
    "def valid(model, testing_loader) -> tuple[list, list]:\n",
    "    # put model in evaluation mode\n",
    "    model.eval()\n",
    "\n",
    "    eval_loss, eval_accuracy = 0, 0\n",
    "    nb_eval_examples, nb_eval_steps = 0, 0\n",
    "    eval_preds, eval_labels = [], []\n",
    "\n",
    "    with torch.no_grad():\n",
    "        for idx, batch in enumerate(testing_loader):\n",
    "\n",
    "            ids = batch['input_ids'].to(device, dtype=torch.long)\n",
    "            mask = batch['attention_mask'].to(device, dtype=torch.long)\n",
    "            labels = batch['labels'].to(device, dtype=torch.long)\n",
    "\n",
    "            outpus = model(input_ids=ids, attention_mask=mask, labels=labels)\n",
    "            loss = outpus[0]\n",
    "            eval_logits = outpus[1]\n",
    "            eval_loss += loss.item()\n",
    "\n",
    "            nb_eval_steps += 1\n",
    "            nb_eval_examples += labels.size(0)\n",
    "\n",
    "            if idx % 10 == 0:\n",
    "                loss_step = eval_loss / nb_eval_steps\n",
    "                print(f'Validation loss per 10 evaluation steps: {loss_step}')\n",
    "\n",
    "            # compute evaluation accuracy\n",
    "            flattened_targets = labels.view(-1)  # shape (batch_size * seq_len)\n",
    "            active_logits = eval_logits.view(-1, model.num_labels)  # shape (batch_size * seq_len, num_labels)\n",
    "            flattened_predictions = torch.argmax(active_logits, dim=1)  # shape (batch_size * seq_len)\n",
    "\n",
    "            # only compute accuracy at active labels\n",
    "            active_accuracy = labels.view(-1) != -100  # shape (batch_size, seq_len)\n",
    "\n",
    "            labels = torch.masked_select(flattened_targets, active_accuracy)\n",
    "            predictions = torch.masked_select(flattened_predictions, active_accuracy)\n",
    "\n",
    "            eval_labels.append(labels)\n",
    "            eval_preds.append(predictions)\n",
    "\n",
    "            tmp_eval_accuracy = accuracy_score(labels.cpu().numpy(), predictions.cpu().numpy())\n",
    "            eval_accuracy += tmp_eval_accuracy\n",
    "\n",
    "    labels = [[ids_to_labels[id.item()] for id in labels] for labels in eval_labels]\n",
    "    predictions = [[ids_to_labels[id.item()] for id in preds] for preds in eval_preds]\n",
    "\n",
    "    eval_loss = eval_loss / nb_eval_steps\n",
    "    eval_accuracy = eval_accuracy / nb_eval_steps\n",
    "    print(f'Validation Loss: {eval_loss}')\n",
    "    print(f'Validation Accuracy: {eval_accuracy}')\n",
    "\n",
    "    return labels, predictions"
   ],
   "outputs": [],
   "execution_count": 31
  },
  {
   "cell_type": "markdown",
   "metadata": {
    "id": "zJaONluRdq-e"
   },
   "source": [
    "As we can see below, performance is quite good! Accuracy on the test test is > 93%."
   ]
  },
  {
   "cell_type": "code",
   "metadata": {
    "id": "2BrxRjvxApY8",
    "tags": [],
    "ExecuteTime": {
     "end_time": "2024-11-02T06:50:55.161333Z",
     "start_time": "2024-11-02T06:50:31.229328Z"
    }
   },
   "source": "labels, predictions = valid(model, testing_loader)",
   "outputs": [
    {
     "name": "stdout",
     "output_type": "stream",
     "text": [
      "Validation loss per 10 evaluation steps: 0.20404550433158875\n",
      "Validation loss per 10 evaluation steps: 0.1423103314909068\n",
      "Validation loss per 10 evaluation steps: 0.1301786530585516\n",
      "Validation loss per 10 evaluation steps: 0.12989722240355708\n",
      "Validation loss per 10 evaluation steps: 0.1277327075964067\n",
      "Validation loss per 10 evaluation steps: 0.12303807564518031\n",
      "Validation loss per 10 evaluation steps: 0.12149319119873594\n",
      "Validation loss per 10 evaluation steps: 0.12097730870607873\n",
      "Validation loss per 10 evaluation steps: 0.1167062861315998\n",
      "Validation loss per 10 evaluation steps: 0.11712176418238944\n",
      "Validation loss per 10 evaluation steps: 0.1176307064176786\n",
      "Validation loss per 10 evaluation steps: 0.11798283222827825\n",
      "Validation loss per 10 evaluation steps: 0.11855340431913856\n",
      "Validation loss per 10 evaluation steps: 0.11742919276802595\n",
      "Validation loss per 10 evaluation steps: 0.11661913224779968\n",
      "Validation loss per 10 evaluation steps: 0.11607683854584662\n",
      "Validation loss per 10 evaluation steps: 0.11639563533367578\n",
      "Validation loss per 10 evaluation steps: 0.11829703808789364\n",
      "Validation loss per 10 evaluation steps: 0.11837293493731246\n",
      "Validation loss per 10 evaluation steps: 0.11877504535292456\n",
      "Validation loss per 10 evaluation steps: 0.11897043930134964\n",
      "Validation loss per 10 evaluation steps: 0.11895238380367157\n",
      "Validation loss per 10 evaluation steps: 0.11923944358440007\n",
      "Validation loss per 10 evaluation steps: 0.11802244331542548\n",
      "Validation loss per 10 evaluation steps: 0.11790608342628756\n",
      "Validation loss per 10 evaluation steps: 0.11810546003252387\n",
      "Validation loss per 10 evaluation steps: 0.11780680276424949\n",
      "Validation loss per 10 evaluation steps: 0.1185285439405494\n",
      "Validation loss per 10 evaluation steps: 0.11838954106450505\n",
      "Validation loss per 10 evaluation steps: 0.11776952884604841\n",
      "Validation Loss: 0.11790636690621008\n",
      "Validation Accuracy: 0.9655600045358904\n"
     ]
    }
   ],
   "execution_count": 32
  },
  {
   "cell_type": "markdown",
   "metadata": {
    "id": "SAznLDwx_U2X"
   },
   "source": [
    "However, the accuracy metric is misleading, as a lot of labels are \"outside\" (O), even after omitting predictions on the [PAD] tokens. What is important is looking at the precision, recall and f1-score of the individual tags. For this, we use the seqeval Python library:"
   ]
  },
  {
   "cell_type": "code",
   "metadata": {
    "id": "0jDNXrjr-6BW",
    "tags": [],
    "ExecuteTime": {
     "end_time": "2024-11-02T06:50:56.237161Z",
     "start_time": "2024-11-02T06:50:55.164357Z"
    }
   },
   "source": "print(classification_report(labels, predictions))",
   "outputs": [
    {
     "name": "stdout",
     "output_type": "stream",
     "text": [
      "              precision    recall  f1-score   support\n",
      "\n",
      "         geo       0.79      0.90      0.85      7378\n",
      "         gpe       0.93      0.92      0.92      3021\n",
      "         org       0.64      0.54      0.59      3964\n",
      "         per       0.74      0.78      0.76      3367\n",
      "         tim       0.87      0.84      0.85      4070\n",
      "\n",
      "   micro avg       0.79      0.81      0.80     21800\n",
      "   macro avg       0.80      0.80      0.79     21800\n",
      "weighted avg       0.79      0.81      0.80     21800\n",
      "\n"
     ]
    }
   ],
   "execution_count": 33
  },
  {
   "cell_type": "markdown",
   "metadata": {
    "id": "mC9QG1_8nRJ7"
   },
   "source": [
    "Performance already seems quite good, but note that we've only trained for 1 epoch. An optimal approach would be to perform evaluation on a validation set while training to improve generalization."
   ]
  },
  {
   "cell_type": "markdown",
   "metadata": {
    "id": "4Gz-wHAw3xMk"
   },
   "source": [
    "#### **Inference**\n",
    "\n",
    "The fun part is when we can quickly test the model on new, unseen sentences.\n",
    "Here, we use the prediction of the **first word piece of every word** (which is how the model was trained).\n",
    "\n",
    "*In other words, the code below does not take into account when predictions of different word pieces that belong to the same word do not match.*"
   ]
  },
  {
   "cell_type": "code",
   "metadata": {
    "id": "zPDla1mmZiax",
    "tags": [],
    "ExecuteTime": {
     "end_time": "2024-11-02T06:50:56.325859Z",
     "start_time": "2024-11-02T06:50:56.257109Z"
    }
   },
   "source": [
    "sentence = '@HuggingFace is a company based in New York, but is also has employees working in Paris'\n",
    "\n",
    "inputs = tokenizer(sentence.split(),\n",
    "                   is_split_into_words=True,\n",
    "                   return_offsets_mapping=True,\n",
    "                   padding='max_length',\n",
    "                   truncation=True,\n",
    "                   max_length=MAX_LEN,\n",
    "                   return_tensors='pt')\n",
    "\n",
    "# move to gpu\n",
    "ids = inputs['input_ids'].to(device)\n",
    "mask = inputs['attention_mask'].to(device)\n",
    "# forward pass\n",
    "outputs = model(ids, attention_mask=mask)\n",
    "logits = outputs[0]\n",
    "\n",
    "active_logits = logits.view(-1, model.num_labels)  # shape (batch_size * seq_len, num_labels)\n",
    "flattened_predictions = torch.argmax(active_logits, dim=1)  # shape (batch_size * seq_len) - predictions at the token level\n",
    "\n",
    "tokens = tokenizer.convert_ids_to_tokens(ids.squeeze().tolist())\n",
    "token_predictions = [ids_to_labels[i] for i in flattened_predictions.cpu().numpy()]\n",
    "wp_preds = list(zip(tokens, token_predictions))  # list of tuples. Each tuple = (wordpiece, prediction)\n",
    "\n",
    "print(tokens)\n",
    "print(token_predictions)\n",
    "prediction = []\n",
    "for token_pred, mapping in zip(wp_preds, inputs['offset_mapping'].squeeze().tolist()):\n",
    "    #only predictions on first word pieces are important\n",
    "    if mapping[0] == 0 and mapping[1] != 0:\n",
    "        prediction.append(token_pred[1])\n",
    "    else:\n",
    "        continue\n",
    "\n",
    "print(sentence.split())\n",
    "print(prediction)"
   ],
   "outputs": [
    {
     "name": "stdout",
     "output_type": "stream",
     "text": [
      "['[CLS]', '@', 'hugging', '##face', 'is', 'a', 'company', 'based', 'in', 'new', 'york', ',', 'but', 'is', 'also', 'has', 'employees', 'working', 'in', 'paris', '[SEP]', '[PAD]', '[PAD]', '[PAD]', '[PAD]', '[PAD]', '[PAD]', '[PAD]', '[PAD]', '[PAD]', '[PAD]', '[PAD]', '[PAD]', '[PAD]', '[PAD]', '[PAD]', '[PAD]', '[PAD]', '[PAD]', '[PAD]', '[PAD]', '[PAD]', '[PAD]', '[PAD]', '[PAD]', '[PAD]', '[PAD]', '[PAD]', '[PAD]', '[PAD]', '[PAD]', '[PAD]', '[PAD]', '[PAD]', '[PAD]', '[PAD]', '[PAD]', '[PAD]', '[PAD]', '[PAD]', '[PAD]', '[PAD]', '[PAD]', '[PAD]', '[PAD]', '[PAD]', '[PAD]', '[PAD]', '[PAD]', '[PAD]', '[PAD]', '[PAD]', '[PAD]', '[PAD]', '[PAD]', '[PAD]', '[PAD]', '[PAD]', '[PAD]', '[PAD]', '[PAD]', '[PAD]', '[PAD]', '[PAD]', '[PAD]', '[PAD]', '[PAD]', '[PAD]', '[PAD]', '[PAD]', '[PAD]', '[PAD]', '[PAD]', '[PAD]', '[PAD]', '[PAD]', '[PAD]', '[PAD]', '[PAD]', '[PAD]', '[PAD]', '[PAD]', '[PAD]', '[PAD]', '[PAD]', '[PAD]', '[PAD]', '[PAD]', '[PAD]', '[PAD]', '[PAD]', '[PAD]', '[PAD]', '[PAD]', '[PAD]', '[PAD]', '[PAD]', '[PAD]', '[PAD]', '[PAD]', '[PAD]', '[PAD]', '[PAD]', '[PAD]', '[PAD]', '[PAD]', '[PAD]', '[PAD]']\n",
      "['O', 'O', 'O', 'O', 'O', 'O', 'O', 'O', 'O', 'B-geo', 'I-geo', 'O', 'O', 'O', 'O', 'O', 'O', 'O', 'O', 'B-geo', 'O', 'O', 'O', 'O', 'O', 'O', 'O', 'O', 'O', 'O', 'O', 'O', 'O', 'O', 'O', 'O', 'O', 'O', 'O', 'O', 'O', 'O', 'O', 'O', 'O', 'O', 'O', 'O', 'O', 'O', 'O', 'O', 'O', 'O', 'O', 'O', 'O', 'O', 'O', 'O', 'O', 'O', 'O', 'O', 'O', 'O', 'O', 'O', 'O', 'O', 'O', 'O', 'O', 'O', 'O', 'O', 'O', 'O', 'O', 'O', 'O', 'O', 'O', 'O', 'O', 'O', 'O', 'O', 'O', 'O', 'O', 'O', 'O', 'O', 'O', 'O', 'O', 'O', 'O', 'O', 'O', 'O', 'O', 'O', 'O', 'O', 'O', 'O', 'O', 'O', 'O', 'O', 'O', 'O', 'O', 'O', 'O', 'O', 'O', 'O', 'O', 'O', 'O', 'O', 'O', 'O', 'O', 'O']\n",
      "['@HuggingFace', 'is', 'a', 'company', 'based', 'in', 'New', 'York,', 'but', 'is', 'also', 'has', 'employees', 'working', 'in', 'Paris']\n",
      "['O', 'O', 'O', 'O', 'O', 'O', 'B-geo', 'I-geo', 'O', 'O', 'O', 'O', 'O', 'O', 'O', 'B-geo']\n"
     ]
    }
   ],
   "execution_count": 34
  },
  {
   "cell_type": "markdown",
   "metadata": {
    "id": "sqDklprSqB5d"
   },
   "source": [
    "#### **Saving the model for future use**"
   ]
  },
  {
   "cell_type": "markdown",
   "metadata": {
    "id": "VuUdX_fImswO"
   },
   "source": [
    "Finally, let's save the vocabulary (.txt) file, model weights (.bin) and the model's configuration (.json) to a directory, so that both the tokenizer and model can be re-loaded using the `from_pretrained()` class method.\n"
   ]
  },
  {
   "cell_type": "code",
   "metadata": {
    "id": "sDZtSsKKntuI",
    "tags": [],
    "ExecuteTime": {
     "end_time": "2024-11-02T06:50:56.956271Z",
     "start_time": "2024-11-02T06:50:56.344005Z"
    }
   },
   "source": [
    "import os\n",
    "\n",
    "directory = os.path.join(os.getcwd(), 'model')\n",
    "\n",
    "if not os.path.exists(directory):\n",
    "    os.makedirs(directory)\n",
    "\n",
    "# save vocabulary of the tokenizer\n",
    "tokenizer.save_vocabulary(directory)\n",
    "# save the model weights and its configuration file\n",
    "model.save_pretrained(directory)\n",
    "print(f'All files saved, path: {directory}')\n",
    "print('This lab part is completed')"
   ],
   "outputs": [
    {
     "name": "stdout",
     "output_type": "stream",
     "text": [
      "All files saved, path: E:\\Project\\PyCharmProject\\NaturalLanguageProcessing\\model\n",
      "This lab part is completed\n"
     ]
    }
   ],
   "execution_count": 35
  },
  {
   "cell_type": "markdown",
   "metadata": {
    "id": "yQwQSVCAXPaX"
   },
   "source": [
    "## Assignment 2\n",
    "\n",
    "We have 4 questions with 100 Marks in total\n",
    "\n",
    "\n",
    "1.   full labels for wordpieces (30 Marks)\n",
    "2.   retrain with new labels, report result and BIO violations (20 Marks)\n",
    "3.   add transition violation scores and report result (20 Marks)\n",
    "4.   train transition scores and report result (30 Marks)\n",
    "\n"
   ]
  },
  {
   "cell_type": "markdown",
   "source": [
    "#Q1\n",
    "\n",
    "1.   Recall that there is a design decision regarding how to convert labels at token level.\n",
    "\n",
    "You need to propagate the original label of the word to all of its word pieces and let the model train on this. For beginning tags, we should have the first worldpiece having B tag, and the remaining having I tag.\n",
    "\n",
    "For example, if you have word like \"Washington\" which is labeled as \"b-gpe\", but it gets tokenized to \"Wash\", \"##ing\", \"##ton\", then you should have \"b-gpe\", \"i-gpe\", \"i-gpe\"\n",
    "\n",
    "Implement this version of label conversion by creating a new dataset class.\n",
    "\n",
    "30 Marks"
   ],
   "metadata": {
    "id": "0DLmKE5mlUcE"
   }
  },
  {
   "cell_type": "code",
   "source": [
    "class NewDataset(Dataset):\n",
    "    def __init__(self, dataframe, tokenizer, max_len) -> None:\n",
    "        self.len = len(dataframe)\n",
    "        self.data = dataframe\n",
    "        self.tokenizer = tokenizer\n",
    "        self.max_len = max_len\n",
    "\n",
    "    def __getitem__(self, index) -> dict:\n",
    "        # step 1: get the sentence and word labels\n",
    "        sentence = self.data.sentence[index].strip().split()\n",
    "        word_labels = self.data.word_labels[index].split(',')\n",
    "\n",
    "        # step 2: use tokenizer to encode sentence (includes padding/truncation up to max length)\n",
    "        # BertTokenizerFast provides a handy \"return_offsets_mapping\" functionality for individual tokens\n",
    "        encoding = self.tokenizer(sentence,\n",
    "                                  is_split_into_words=True,\n",
    "                                  return_offsets_mapping=True,\n",
    "                                  padding='max_length',\n",
    "                                  truncation=True,\n",
    "                                  max_length=self.max_len)\n",
    "\n",
    "        # step 3: create token labels for all word pieces of each tokenized word\n",
    "        # If the label is B tag, only the first wordpiece label is B, others are I\n",
    "        labels = [labels_to_ids[label] for label in word_labels]\n",
    "\n",
    "        # code based on https://huggingface.co/transformers/custom_datasets.html#tok-ner\n",
    "        # create an empty array of 0 of length max_length\n",
    "        # the reason is that torch-crf (getting into it later) cannot take tags outside of number of labels\n",
    "        # it can accept mask, so we will be fine\n",
    "        encoded_labels = np.ones(len(encoding['offset_mapping']), dtype=int) * labels_to_ids['O']\n",
    "\n",
    "        # set labels according to offset_mapping\n",
    "        i = 0\n",
    "        pre_mapping = []\n",
    "        for idx, mapping in enumerate(encoding['offset_mapping']):\n",
    "            if mapping[0] == 0 and mapping[1] != 0:\n",
    "                # overwrite label\n",
    "                encoded_labels[idx] = labels[i]\n",
    "                pre_mapping = mapping\n",
    "                i += 1\n",
    "            elif idx > 0 and pre_mapping[1] == mapping[0]:\n",
    "                encoded_labels[idx] = labels_to_ids[ids_to_labels[labels[i - 1]].replace('B', 'I')]\n",
    "                pre_mapping = mapping\n",
    "\n",
    "        # step 4: turn everything into PyTorch tensors\n",
    "        item = {key: torch.as_tensor(val) for key, val in encoding.items()}\n",
    "        item['labels'] = torch.as_tensor(encoded_labels)\n",
    "\n",
    "        return item\n",
    "\n",
    "    def __len__(self) -> int:\n",
    "        return self.len"
   ],
   "metadata": {
    "id": "M9vTPuI3vvcP",
    "ExecuteTime": {
     "end_time": "2024-11-02T06:50:56.980514Z",
     "start_time": "2024-11-02T06:50:56.975500Z"
    }
   },
   "outputs": [],
   "execution_count": 36
  },
  {
   "cell_type": "code",
   "source": [
    "# Testing Code Here\n",
    "train_size = 0.8\n",
    "train_dataset = data.sample(frac=train_size,random_state=200)\n",
    "test_dataset = data.drop(train_dataset.index).reset_index(drop=True)\n",
    "train_dataset = train_dataset.reset_index(drop=True)\n",
    "\n",
    "print(f'FULL Dataset: {data.shape}')\n",
    "print(f'TRAIN Dataset: {train_dataset.shape}')\n",
    "print(f'TEST Dataset: {test_dataset.shape}')\n",
    "\n",
    "training_set = NewDataset(train_dataset, tokenizer, MAX_LEN)\n",
    "testing_set = NewDataset(test_dataset, tokenizer, MAX_LEN)"
   ],
   "metadata": {
    "id": "-AdPRthvwjup",
    "ExecuteTime": {
     "end_time": "2024-11-02T06:50:56.995658Z",
     "start_time": "2024-11-02T06:50:56.986393Z"
    }
   },
   "outputs": [
    {
     "name": "stdout",
     "output_type": "stream",
     "text": [
      "FULL Dataset: (47571, 2)\n",
      "TRAIN Dataset: (38057, 2)\n",
      "TEST Dataset: (9514, 2)\n"
     ]
    }
   ],
   "execution_count": 37
  },
  {
   "metadata": {
    "ExecuteTime": {
     "end_time": "2024-11-02T06:50:57.029844Z",
     "start_time": "2024-11-02T06:50:57.023460Z"
    }
   },
   "cell_type": "code",
   "source": [
    "print(training_set[0])\n",
    "print(tokenizer.convert_ids_to_tokens(training_set[0]['input_ids']))"
   ],
   "outputs": [
    {
     "name": "stdout",
     "output_type": "stream",
     "text": [
      "{'input_ids': tensor([  101, 23564, 21030,  2099,  4967,  2001,  9388,  1011,  6109,  2005,\n",
      "         2634,  1012,   102,     0,     0,     0,     0,     0,     0,     0,\n",
      "            0,     0,     0,     0,     0,     0,     0,     0,     0,     0,\n",
      "            0,     0,     0,     0,     0,     0,     0,     0,     0,     0,\n",
      "            0,     0,     0,     0,     0,     0,     0,     0,     0,     0,\n",
      "            0,     0,     0,     0,     0,     0,     0,     0,     0,     0,\n",
      "            0,     0,     0,     0,     0,     0,     0,     0,     0,     0,\n",
      "            0,     0,     0,     0,     0,     0,     0,     0,     0,     0,\n",
      "            0,     0,     0,     0,     0,     0,     0,     0,     0,     0,\n",
      "            0,     0,     0,     0,     0,     0,     0,     0,     0,     0,\n",
      "            0,     0,     0,     0,     0,     0,     0,     0,     0,     0,\n",
      "            0,     0,     0,     0,     0,     0,     0,     0,     0,     0,\n",
      "            0,     0,     0,     0,     0,     0,     0,     0]), 'token_type_ids': tensor([0, 0, 0, 0, 0, 0, 0, 0, 0, 0, 0, 0, 0, 0, 0, 0, 0, 0, 0, 0, 0, 0, 0, 0,\n",
      "        0, 0, 0, 0, 0, 0, 0, 0, 0, 0, 0, 0, 0, 0, 0, 0, 0, 0, 0, 0, 0, 0, 0, 0,\n",
      "        0, 0, 0, 0, 0, 0, 0, 0, 0, 0, 0, 0, 0, 0, 0, 0, 0, 0, 0, 0, 0, 0, 0, 0,\n",
      "        0, 0, 0, 0, 0, 0, 0, 0, 0, 0, 0, 0, 0, 0, 0, 0, 0, 0, 0, 0, 0, 0, 0, 0,\n",
      "        0, 0, 0, 0, 0, 0, 0, 0, 0, 0, 0, 0, 0, 0, 0, 0, 0, 0, 0, 0, 0, 0, 0, 0,\n",
      "        0, 0, 0, 0, 0, 0, 0, 0]), 'attention_mask': tensor([1, 1, 1, 1, 1, 1, 1, 1, 1, 1, 1, 1, 1, 0, 0, 0, 0, 0, 0, 0, 0, 0, 0, 0,\n",
      "        0, 0, 0, 0, 0, 0, 0, 0, 0, 0, 0, 0, 0, 0, 0, 0, 0, 0, 0, 0, 0, 0, 0, 0,\n",
      "        0, 0, 0, 0, 0, 0, 0, 0, 0, 0, 0, 0, 0, 0, 0, 0, 0, 0, 0, 0, 0, 0, 0, 0,\n",
      "        0, 0, 0, 0, 0, 0, 0, 0, 0, 0, 0, 0, 0, 0, 0, 0, 0, 0, 0, 0, 0, 0, 0, 0,\n",
      "        0, 0, 0, 0, 0, 0, 0, 0, 0, 0, 0, 0, 0, 0, 0, 0, 0, 0, 0, 0, 0, 0, 0, 0,\n",
      "        0, 0, 0, 0, 0, 0, 0, 0]), 'offset_mapping': tensor([[0, 0],\n",
      "        [0, 2],\n",
      "        [2, 5],\n",
      "        [5, 6],\n",
      "        [0, 4],\n",
      "        [0, 3],\n",
      "        [0, 3],\n",
      "        [3, 4],\n",
      "        [4, 6],\n",
      "        [0, 3],\n",
      "        [0, 5],\n",
      "        [0, 1],\n",
      "        [0, 0],\n",
      "        [0, 0],\n",
      "        [0, 0],\n",
      "        [0, 0],\n",
      "        [0, 0],\n",
      "        [0, 0],\n",
      "        [0, 0],\n",
      "        [0, 0],\n",
      "        [0, 0],\n",
      "        [0, 0],\n",
      "        [0, 0],\n",
      "        [0, 0],\n",
      "        [0, 0],\n",
      "        [0, 0],\n",
      "        [0, 0],\n",
      "        [0, 0],\n",
      "        [0, 0],\n",
      "        [0, 0],\n",
      "        [0, 0],\n",
      "        [0, 0],\n",
      "        [0, 0],\n",
      "        [0, 0],\n",
      "        [0, 0],\n",
      "        [0, 0],\n",
      "        [0, 0],\n",
      "        [0, 0],\n",
      "        [0, 0],\n",
      "        [0, 0],\n",
      "        [0, 0],\n",
      "        [0, 0],\n",
      "        [0, 0],\n",
      "        [0, 0],\n",
      "        [0, 0],\n",
      "        [0, 0],\n",
      "        [0, 0],\n",
      "        [0, 0],\n",
      "        [0, 0],\n",
      "        [0, 0],\n",
      "        [0, 0],\n",
      "        [0, 0],\n",
      "        [0, 0],\n",
      "        [0, 0],\n",
      "        [0, 0],\n",
      "        [0, 0],\n",
      "        [0, 0],\n",
      "        [0, 0],\n",
      "        [0, 0],\n",
      "        [0, 0],\n",
      "        [0, 0],\n",
      "        [0, 0],\n",
      "        [0, 0],\n",
      "        [0, 0],\n",
      "        [0, 0],\n",
      "        [0, 0],\n",
      "        [0, 0],\n",
      "        [0, 0],\n",
      "        [0, 0],\n",
      "        [0, 0],\n",
      "        [0, 0],\n",
      "        [0, 0],\n",
      "        [0, 0],\n",
      "        [0, 0],\n",
      "        [0, 0],\n",
      "        [0, 0],\n",
      "        [0, 0],\n",
      "        [0, 0],\n",
      "        [0, 0],\n",
      "        [0, 0],\n",
      "        [0, 0],\n",
      "        [0, 0],\n",
      "        [0, 0],\n",
      "        [0, 0],\n",
      "        [0, 0],\n",
      "        [0, 0],\n",
      "        [0, 0],\n",
      "        [0, 0],\n",
      "        [0, 0],\n",
      "        [0, 0],\n",
      "        [0, 0],\n",
      "        [0, 0],\n",
      "        [0, 0],\n",
      "        [0, 0],\n",
      "        [0, 0],\n",
      "        [0, 0],\n",
      "        [0, 0],\n",
      "        [0, 0],\n",
      "        [0, 0],\n",
      "        [0, 0],\n",
      "        [0, 0],\n",
      "        [0, 0],\n",
      "        [0, 0],\n",
      "        [0, 0],\n",
      "        [0, 0],\n",
      "        [0, 0],\n",
      "        [0, 0],\n",
      "        [0, 0],\n",
      "        [0, 0],\n",
      "        [0, 0],\n",
      "        [0, 0],\n",
      "        [0, 0],\n",
      "        [0, 0],\n",
      "        [0, 0],\n",
      "        [0, 0],\n",
      "        [0, 0],\n",
      "        [0, 0],\n",
      "        [0, 0],\n",
      "        [0, 0],\n",
      "        [0, 0],\n",
      "        [0, 0],\n",
      "        [0, 0],\n",
      "        [0, 0],\n",
      "        [0, 0],\n",
      "        [0, 0],\n",
      "        [0, 0],\n",
      "        [0, 0],\n",
      "        [0, 0]]), 'labels': tensor([0, 3, 8, 8, 8, 0, 0, 0, 0, 0, 1, 0, 0, 0, 0, 0, 0, 0, 0, 0, 0, 0, 0, 0,\n",
      "        0, 0, 0, 0, 0, 0, 0, 0, 0, 0, 0, 0, 0, 0, 0, 0, 0, 0, 0, 0, 0, 0, 0, 0,\n",
      "        0, 0, 0, 0, 0, 0, 0, 0, 0, 0, 0, 0, 0, 0, 0, 0, 0, 0, 0, 0, 0, 0, 0, 0,\n",
      "        0, 0, 0, 0, 0, 0, 0, 0, 0, 0, 0, 0, 0, 0, 0, 0, 0, 0, 0, 0, 0, 0, 0, 0,\n",
      "        0, 0, 0, 0, 0, 0, 0, 0, 0, 0, 0, 0, 0, 0, 0, 0, 0, 0, 0, 0, 0, 0, 0, 0,\n",
      "        0, 0, 0, 0, 0, 0, 0, 0], dtype=torch.int32)}\n",
      "['[CLS]', 'za', '##hee', '##r', 'khan', 'was', 'mar', '-', '93', 'for', 'india', '.', '[SEP]', '[PAD]', '[PAD]', '[PAD]', '[PAD]', '[PAD]', '[PAD]', '[PAD]', '[PAD]', '[PAD]', '[PAD]', '[PAD]', '[PAD]', '[PAD]', '[PAD]', '[PAD]', '[PAD]', '[PAD]', '[PAD]', '[PAD]', '[PAD]', '[PAD]', '[PAD]', '[PAD]', '[PAD]', '[PAD]', '[PAD]', '[PAD]', '[PAD]', '[PAD]', '[PAD]', '[PAD]', '[PAD]', '[PAD]', '[PAD]', '[PAD]', '[PAD]', '[PAD]', '[PAD]', '[PAD]', '[PAD]', '[PAD]', '[PAD]', '[PAD]', '[PAD]', '[PAD]', '[PAD]', '[PAD]', '[PAD]', '[PAD]', '[PAD]', '[PAD]', '[PAD]', '[PAD]', '[PAD]', '[PAD]', '[PAD]', '[PAD]', '[PAD]', '[PAD]', '[PAD]', '[PAD]', '[PAD]', '[PAD]', '[PAD]', '[PAD]', '[PAD]', '[PAD]', '[PAD]', '[PAD]', '[PAD]', '[PAD]', '[PAD]', '[PAD]', '[PAD]', '[PAD]', '[PAD]', '[PAD]', '[PAD]', '[PAD]', '[PAD]', '[PAD]', '[PAD]', '[PAD]', '[PAD]', '[PAD]', '[PAD]', '[PAD]', '[PAD]', '[PAD]', '[PAD]', '[PAD]', '[PAD]', '[PAD]', '[PAD]', '[PAD]', '[PAD]', '[PAD]', '[PAD]', '[PAD]', '[PAD]', '[PAD]', '[PAD]', '[PAD]', '[PAD]', '[PAD]', '[PAD]', '[PAD]', '[PAD]', '[PAD]', '[PAD]', '[PAD]', '[PAD]', '[PAD]', '[PAD]', '[PAD]']\n"
     ]
    }
   ],
   "execution_count": 38
  },
  {
   "metadata": {
    "ExecuteTime": {
     "end_time": "2024-11-02T06:50:57.055561Z",
     "start_time": "2024-11-02T06:50:57.051814Z"
    }
   },
   "cell_type": "code",
   "source": [
    "for token, label in zip(tokenizer.convert_ids_to_tokens(training_set[0]['input_ids']), training_set[0]['labels']):\n",
    "    print(f'{token:10}  {label}')"
   ],
   "outputs": [
    {
     "name": "stdout",
     "output_type": "stream",
     "text": [
      "[CLS]       0\n",
      "za          3\n",
      "##hee       8\n",
      "##r         8\n",
      "khan        8\n",
      "was         0\n",
      "mar         0\n",
      "-           0\n",
      "93          0\n",
      "for         0\n",
      "india       1\n",
      ".           0\n",
      "[SEP]       0\n",
      "[PAD]       0\n",
      "[PAD]       0\n",
      "[PAD]       0\n",
      "[PAD]       0\n",
      "[PAD]       0\n",
      "[PAD]       0\n",
      "[PAD]       0\n",
      "[PAD]       0\n",
      "[PAD]       0\n",
      "[PAD]       0\n",
      "[PAD]       0\n",
      "[PAD]       0\n",
      "[PAD]       0\n",
      "[PAD]       0\n",
      "[PAD]       0\n",
      "[PAD]       0\n",
      "[PAD]       0\n",
      "[PAD]       0\n",
      "[PAD]       0\n",
      "[PAD]       0\n",
      "[PAD]       0\n",
      "[PAD]       0\n",
      "[PAD]       0\n",
      "[PAD]       0\n",
      "[PAD]       0\n",
      "[PAD]       0\n",
      "[PAD]       0\n",
      "[PAD]       0\n",
      "[PAD]       0\n",
      "[PAD]       0\n",
      "[PAD]       0\n",
      "[PAD]       0\n",
      "[PAD]       0\n",
      "[PAD]       0\n",
      "[PAD]       0\n",
      "[PAD]       0\n",
      "[PAD]       0\n",
      "[PAD]       0\n",
      "[PAD]       0\n",
      "[PAD]       0\n",
      "[PAD]       0\n",
      "[PAD]       0\n",
      "[PAD]       0\n",
      "[PAD]       0\n",
      "[PAD]       0\n",
      "[PAD]       0\n",
      "[PAD]       0\n",
      "[PAD]       0\n",
      "[PAD]       0\n",
      "[PAD]       0\n",
      "[PAD]       0\n",
      "[PAD]       0\n",
      "[PAD]       0\n",
      "[PAD]       0\n",
      "[PAD]       0\n",
      "[PAD]       0\n",
      "[PAD]       0\n",
      "[PAD]       0\n",
      "[PAD]       0\n",
      "[PAD]       0\n",
      "[PAD]       0\n",
      "[PAD]       0\n",
      "[PAD]       0\n",
      "[PAD]       0\n",
      "[PAD]       0\n",
      "[PAD]       0\n",
      "[PAD]       0\n",
      "[PAD]       0\n",
      "[PAD]       0\n",
      "[PAD]       0\n",
      "[PAD]       0\n",
      "[PAD]       0\n",
      "[PAD]       0\n",
      "[PAD]       0\n",
      "[PAD]       0\n",
      "[PAD]       0\n",
      "[PAD]       0\n",
      "[PAD]       0\n",
      "[PAD]       0\n",
      "[PAD]       0\n",
      "[PAD]       0\n",
      "[PAD]       0\n",
      "[PAD]       0\n",
      "[PAD]       0\n",
      "[PAD]       0\n",
      "[PAD]       0\n",
      "[PAD]       0\n",
      "[PAD]       0\n",
      "[PAD]       0\n",
      "[PAD]       0\n",
      "[PAD]       0\n",
      "[PAD]       0\n",
      "[PAD]       0\n",
      "[PAD]       0\n",
      "[PAD]       0\n",
      "[PAD]       0\n",
      "[PAD]       0\n",
      "[PAD]       0\n",
      "[PAD]       0\n",
      "[PAD]       0\n",
      "[PAD]       0\n",
      "[PAD]       0\n",
      "[PAD]       0\n",
      "[PAD]       0\n",
      "[PAD]       0\n",
      "[PAD]       0\n",
      "[PAD]       0\n",
      "[PAD]       0\n",
      "[PAD]       0\n",
      "[PAD]       0\n",
      "[PAD]       0\n",
      "[PAD]       0\n",
      "[PAD]       0\n",
      "[PAD]       0\n",
      "[PAD]       0\n"
     ]
    }
   ],
   "execution_count": 39
  },
  {
   "metadata": {
    "ExecuteTime": {
     "end_time": "2024-11-02T06:50:57.087965Z",
     "start_time": "2024-11-02T06:50:57.083813Z"
    }
   },
   "cell_type": "code",
   "source": [
    "train_params = {'batch_size': TRAIN_BATCH_SIZE,\n",
    "                'shuffle': True,\n",
    "                'num_workers': 0,  # no additional child processes are used\n",
    "                }\n",
    "\n",
    "test_params = {'batch_size': VALID_BATCH_SIZE,\n",
    "               'shuffle': True,\n",
    "               'num_workers': 0,  # no additional child processes are used\n",
    "               }\n",
    "\n",
    "training_loader = DataLoader(training_set, **train_params)\n",
    "testing_loader = DataLoader(testing_set, **test_params)"
   ],
   "outputs": [],
   "execution_count": 40
  },
  {
   "cell_type": "markdown",
   "source": [
    "#Q2\n",
    "\n",
    "\n",
    "1.   Train the model on the new labels, report the testing set performance with classification_report (10 Marks).   \n",
    "2.   Gather the statistics of BIO rule violations. $\\dfrac{\\mathrm{\\#Violations}}{\\mathrm{\\#Predicted Labels}}$ (10 Marks).\n",
    "\n",
    "A violation happens when \"I-tag\" is not preceeded by \"I-tag\" or \"B-tag\".\n",
    "\n",
    "20 Marks in total for Q2\n",
    "\n"
   ],
   "metadata": {
    "id": "ngj6-GAUwWRy"
   }
  },
  {
   "cell_type": "code",
   "source": [
    "# Active Accuracy can no longer be based on label != -100, we use attention_mask\n",
    "# No need to fix anything here.\n",
    "def new_valid(model, testing_loader) -> tuple[list, list]:\n",
    "    # put model in evaluation mode\n",
    "    model.eval()\n",
    "\n",
    "    eval_loss, eval_accuracy = 0, 0\n",
    "    nb_eval_examples, nb_eval_steps = 0, 0\n",
    "    eval_preds, eval_labels = [], []\n",
    "\n",
    "    with torch.no_grad():\n",
    "        for idx, batch in enumerate(testing_loader):\n",
    "\n",
    "            ids = batch['input_ids'].to(device, dtype=torch.long)\n",
    "            mask = batch['attention_mask'].to(device, dtype=torch.long)\n",
    "            labels = batch['labels'].to(device, dtype=torch.long)\n",
    "\n",
    "            outpus = model(input_ids=ids, attention_mask=mask, labels=labels)\n",
    "            loss = outpus[0]\n",
    "            eval_logits = outpus[1]\n",
    "            eval_loss += loss.item()\n",
    "\n",
    "            nb_eval_steps += 1\n",
    "            nb_eval_examples += labels.size(0)\n",
    "\n",
    "            if idx % 10 == 0:\n",
    "                loss_step = eval_loss / nb_eval_steps\n",
    "                print(f'Validation loss per 10 evaluation steps: {loss_step}')\n",
    "\n",
    "            # compute evaluation accuracy\n",
    "            flattened_targets = labels.view(-1)  # shape (batch_size * seq_len)\n",
    "            active_logits = eval_logits.view(-1, model.num_labels)  # shape (batch_size * seq_len, num_labels)\n",
    "            flattened_predictions = torch.argmax(active_logits, dim=1)  # shape (batch_size * seq_len)\n",
    "\n",
    "            # only compute accuracy at active labels\n",
    "            active_accuracy = mask.view(-1) != 0  # shape (batch_size, seq_len)\n",
    "\n",
    "            labels = torch.masked_select(flattened_targets, active_accuracy)\n",
    "            predictions = torch.masked_select(flattened_predictions, active_accuracy)\n",
    "\n",
    "            eval_labels.append(labels)\n",
    "            eval_preds.append(predictions)\n",
    "\n",
    "            tmp_eval_accuracy = accuracy_score(labels.cpu().numpy(), predictions.cpu().numpy())\n",
    "            eval_accuracy += tmp_eval_accuracy\n",
    "\n",
    "    labels = [[ids_to_labels[id.item()] for id  in labels] for labels in eval_labels]\n",
    "    predictions = [[ids_to_labels[id.item()] for id in preds] for preds in  eval_preds]\n",
    "\n",
    "    eval_loss = eval_loss / nb_eval_steps\n",
    "    eval_accuracy = eval_accuracy / nb_eval_steps\n",
    "    print(f'Validation Loss: {eval_loss}')\n",
    "    print(f'Validation Accuracy: {eval_accuracy}')\n",
    "\n",
    "    return labels, predictions"
   ],
   "metadata": {
    "id": "ur-ofsya_XM2",
    "ExecuteTime": {
     "end_time": "2024-11-02T06:50:57.115827Z",
     "start_time": "2024-11-02T06:50:57.110661Z"
    }
   },
   "outputs": [],
   "execution_count": 41
  },
  {
   "cell_type": "code",
   "source": [
    "# Retrain and produce classification report\n",
    "def new_train(training_loader) -> None:\n",
    "    tr_loss, tr_accuracy = 0, 0  # training loss and training accuracy\n",
    "    nb_tr_examples, nb_tr_steps = 0, 0  # the number of training samples and training steps\n",
    "    tr_preds, tr_labels = [], []  # stores prediction labels and real labels\n",
    "    # put model in training mode\n",
    "    model.train()\n",
    "\n",
    "    for idx, batch in enumerate(training_loader):\n",
    "        \n",
    "        ids = batch['input_ids'].to(device, dtype=torch.long)\n",
    "        mask = batch['attention_mask'].to(device, dtype=torch.long)\n",
    "        labels = batch['labels'].to(device, dtype=torch.long)\n",
    "\n",
    "        outputs = model(input_ids=ids, attention_mask=mask, labels=labels)  # forward propagation\n",
    "        loss = outputs[0]  # extract loss value\n",
    "        tr_logits = outputs[1]  # extract logits\n",
    "        tr_loss += loss.item()  # add up the loss of the current batch\n",
    "\n",
    "        nb_tr_steps += 1  # update the training step count\n",
    "        nb_tr_examples += labels.size(0)  # Update the number of training samples\n",
    "\n",
    "        if idx % 10 == 0:  # print training losses every 10 steps\n",
    "            loss_step = tr_loss / nb_tr_steps\n",
    "            print(f'Training loss per 10 training steps: {loss_step}')\n",
    "\n",
    "        # compute training accuracy\n",
    "        flattened_targets = labels.view(-1)  # shape (batch_size * seq_len)\n",
    "        active_logits = tr_logits.view(-1, model.num_labels)  # shape (batch_size * seq_len, num_labels)\n",
    "        flattened_predictions = torch.argmax(active_logits, dim=1)  # shape (batch_size * seq_len)\n",
    "\n",
    "        # only compute accuracy at active labels\n",
    "        active_accuracy = mask.view(-1) != 0  # shape (batch_size, seq_len)\n",
    "        #active_labels = torch.where(active_accuracy, labels.view(-1), torch.tensor(0).type_as(labels))\n",
    "\n",
    "        labels = torch.masked_select(flattened_targets, active_accuracy)\n",
    "        predictions = torch.masked_select(flattened_predictions, active_accuracy)\n",
    "\n",
    "        tr_labels.extend(labels)\n",
    "        tr_preds.extend(predictions)\n",
    "\n",
    "        tmp_tr_accuracy = accuracy_score(labels.cpu().numpy(), predictions.cpu().numpy())\n",
    "        tr_accuracy += tmp_tr_accuracy\n",
    "\n",
    "        # gradient clipping\n",
    "        torch.nn.utils.clip_grad_norm_(parameters=model.parameters(), max_norm=MAX_GRAD_NORM)\n",
    "\n",
    "        # backward pass\n",
    "        optimizer.zero_grad()\n",
    "        loss.backward()\n",
    "        optimizer.step()\n",
    "\n",
    "    epoch_loss = tr_loss / nb_tr_steps\n",
    "    tr_accuracy = tr_accuracy / nb_tr_steps\n",
    "    print(f'Training loss epoch: {epoch_loss}')\n",
    "    print(f'Training accuracy epoch: {tr_accuracy}')"
   ],
   "metadata": {
    "id": "0KR8t8kS5Vj8",
    "ExecuteTime": {
     "end_time": "2024-11-02T06:50:57.126613Z",
     "start_time": "2024-11-02T06:50:57.121812Z"
    }
   },
   "outputs": [],
   "execution_count": 42
  },
  {
   "metadata": {
    "ExecuteTime": {
     "end_time": "2024-11-02T06:53:57.145246Z",
     "start_time": "2024-11-02T06:50:57.129609Z"
    }
   },
   "cell_type": "code",
   "source": [
    "for epoch in range(EPOCHS):\n",
    "    print(f'Training epoch: {epoch + 1}')\n",
    "    new_train(training_loader)"
   ],
   "outputs": [
    {
     "name": "stdout",
     "output_type": "stream",
     "text": [
      "Training epoch: 1\n",
      "Training loss per 10 training steps: 0.09828614443540573\n",
      "Training loss per 10 training steps: 0.05371994034133174\n",
      "Training loss per 10 training steps: 0.04786150618678048\n",
      "Training loss per 10 training steps: 0.04444840796772511\n",
      "Training loss per 10 training steps: 0.041603345423936844\n",
      "Training loss per 10 training steps: 0.03860844554854374\n",
      "Training loss per 10 training steps: 0.03771338675965051\n",
      "Training loss per 10 training steps: 0.03684821108382352\n",
      "Training loss per 10 training steps: 0.03627474746310416\n",
      "Training loss per 10 training steps: 0.03600027975063402\n",
      "Training loss per 10 training steps: 0.0357143497094512\n",
      "Training loss per 10 training steps: 0.035629360156284796\n",
      "Training loss per 10 training steps: 0.03501573374325579\n",
      "Training loss per 10 training steps: 0.034541068470660054\n",
      "Training loss per 10 training steps: 0.034439313113161014\n",
      "Training loss per 10 training steps: 0.03402462889076464\n",
      "Training loss per 10 training steps: 0.033781583866347435\n",
      "Training loss per 10 training steps: 0.03379785628956661\n",
      "Training loss per 10 training steps: 0.03344187651920384\n",
      "Training loss per 10 training steps: 0.03340172442895268\n",
      "Training loss per 10 training steps: 0.03317705173026863\n",
      "Training loss per 10 training steps: 0.03303533769543702\n",
      "Training loss per 10 training steps: 0.03289692171288831\n",
      "Training loss per 10 training steps: 0.032955164476842075\n",
      "Training loss per 10 training steps: 0.03273424570336629\n",
      "Training loss per 10 training steps: 0.0325980363450796\n",
      "Training loss per 10 training steps: 0.032465846281341665\n",
      "Training loss per 10 training steps: 0.03243974091766945\n",
      "Training loss per 10 training steps: 0.032344123269050146\n",
      "Training loss per 10 training steps: 0.032455119762019195\n",
      "Training loss per 10 training steps: 0.03226378588531897\n",
      "Training loss per 10 training steps: 0.03225962832342486\n",
      "Training loss per 10 training steps: 0.03202474150063928\n",
      "Training loss per 10 training steps: 0.03186525887840644\n",
      "Training loss per 10 training steps: 0.03175123323771087\n",
      "Training loss per 10 training steps: 0.031624188864248094\n",
      "Training loss per 10 training steps: 0.03159625532100405\n",
      "Training loss per 10 training steps: 0.031562764308041315\n",
      "Training loss per 10 training steps: 0.031496529645846275\n",
      "Training loss per 10 training steps: 0.03137287188349935\n",
      "Training loss per 10 training steps: 0.031271388080723564\n",
      "Training loss per 10 training steps: 0.031239220174595968\n",
      "Training loss per 10 training steps: 0.03123339831457427\n",
      "Training loss per 10 training steps: 0.03118631072134955\n",
      "Training loss per 10 training steps: 0.03115037084048162\n",
      "Training loss per 10 training steps: 0.031090325793610707\n",
      "Training loss per 10 training steps: 0.03095695013968262\n",
      "Training loss per 10 training steps: 0.030883838673717405\n",
      "Training loss per 10 training steps: 0.030837131627368702\n",
      "Training loss per 10 training steps: 0.030775290819040506\n",
      "Training loss per 10 training steps: 0.030768489357299672\n",
      "Training loss per 10 training steps: 0.03070686308123944\n",
      "Training loss per 10 training steps: 0.03064712987508403\n",
      "Training loss per 10 training steps: 0.03058912609607374\n",
      "Training loss per 10 training steps: 0.03057380777726883\n",
      "Training loss per 10 training steps: 0.030511921210833123\n",
      "Training loss per 10 training steps: 0.03048105983797348\n",
      "Training loss per 10 training steps: 0.030369589056317318\n",
      "Training loss per 10 training steps: 0.030283777065664888\n",
      "Training loss per 10 training steps: 0.03031587542401857\n",
      "Training loss per 10 training steps: 0.030313355755215873\n",
      "Training loss per 10 training steps: 0.030278009638409764\n",
      "Training loss per 10 training steps: 0.03024883470505524\n",
      "Training loss per 10 training steps: 0.030247066547819626\n",
      "Training loss per 10 training steps: 0.030210819696882586\n",
      "Training loss per 10 training steps: 0.03012317241085107\n",
      "Training loss per 10 training steps: 0.030055800874107454\n",
      "Training loss per 10 training steps: 0.030021139403913398\n",
      "Training loss per 10 training steps: 0.030022448344530862\n",
      "Training loss per 10 training steps: 0.029962776846073125\n",
      "Training loss per 10 training steps: 0.02989389815669342\n",
      "Training loss per 10 training steps: 0.029811361429979696\n",
      "Training loss per 10 training steps: 0.029789469978577055\n",
      "Training loss per 10 training steps: 0.029705080006235927\n",
      "Training loss per 10 training steps: 0.02970802490366937\n",
      "Training loss per 10 training steps: 0.029705783255527245\n",
      "Training loss per 10 training steps: 0.029730837899853774\n",
      "Training loss per 10 training steps: 0.02968974477924339\n",
      "Training loss per 10 training steps: 0.029700858079650644\n",
      "Training loss per 10 training steps: 0.029633574503298506\n",
      "Training loss per 10 training steps: 0.029662194228109052\n",
      "Training loss per 10 training steps: 0.029660209475955598\n",
      "Training loss per 10 training steps: 0.029665638755067694\n",
      "Training loss per 10 training steps: 0.029632372046438652\n",
      "Training loss per 10 training steps: 0.029538093734971124\n",
      "Training loss per 10 training steps: 0.029509943390109705\n",
      "Training loss per 10 training steps: 0.02949287249132316\n",
      "Training loss per 10 training steps: 0.02946810865396234\n",
      "Training loss per 10 training steps: 0.02943398534858369\n",
      "Training loss per 10 training steps: 0.02942160374299946\n",
      "Training loss per 10 training steps: 0.029420008420836714\n",
      "Training loss per 10 training steps: 0.02937039815842222\n",
      "Training loss per 10 training steps: 0.029321473547895556\n",
      "Training loss per 10 training steps: 0.029265682991277967\n",
      "Training loss per 10 training steps: 0.029238196288796654\n",
      "Training loss per 10 training steps: 0.0291852210271324\n",
      "Training loss per 10 training steps: 0.029145584437844967\n",
      "Training loss per 10 training steps: 0.029124669768069666\n",
      "Training loss per 10 training steps: 0.029105095876329534\n",
      "Training loss per 10 training steps: 0.02907898627206548\n",
      "Training loss per 10 training steps: 0.029084845065519765\n",
      "Training loss per 10 training steps: 0.02907167194166122\n",
      "Training loss per 10 training steps: 0.02907708044602635\n",
      "Training loss per 10 training steps: 0.02908538991204173\n",
      "Training loss per 10 training steps: 0.02904074256532932\n",
      "Training loss per 10 training steps: 0.02900495212861859\n",
      "Training loss per 10 training steps: 0.028959419850425043\n",
      "Training loss per 10 training steps: 0.028990865209384237\n",
      "Training loss per 10 training steps: 0.028986206860604605\n",
      "Training loss per 10 training steps: 0.028972380392519734\n",
      "Training loss per 10 training steps: 0.028965950626321645\n",
      "Training loss per 10 training steps: 0.028935749315121065\n",
      "Training loss per 10 training steps: 0.02888700515563524\n",
      "Training loss per 10 training steps: 0.028851920725641054\n",
      "Training loss per 10 training steps: 0.028832897685931818\n",
      "Training loss per 10 training steps: 0.028816956709536337\n",
      "Training loss per 10 training steps: 0.02878465938392279\n",
      "Training loss per 10 training steps: 0.028783807973198457\n",
      "Training loss per 10 training steps: 0.028787104083283485\n",
      "Training loss epoch: 0.02875517137317347\n",
      "Training accuracy epoch: 0.9590317225069398\n"
     ]
    }
   ],
   "execution_count": 43
  },
  {
   "metadata": {
    "ExecuteTime": {
     "end_time": "2024-11-02T06:54:24.120047Z",
     "start_time": "2024-11-02T06:53:57.164316Z"
    }
   },
   "cell_type": "code",
   "source": "labels, predictions = new_valid(model, testing_loader)",
   "outputs": [
    {
     "name": "stdout",
     "output_type": "stream",
     "text": [
      "Validation loss per 10 evaluation steps: 0.03927920013666153\n",
      "Validation loss per 10 evaluation steps: 0.029144178229299458\n",
      "Validation loss per 10 evaluation steps: 0.028100788105456603\n",
      "Validation loss per 10 evaluation steps: 0.028559184452939416\n",
      "Validation loss per 10 evaluation steps: 0.02783264140257748\n",
      "Validation loss per 10 evaluation steps: 0.027324571128131126\n",
      "Validation loss per 10 evaluation steps: 0.027550950570062537\n",
      "Validation loss per 10 evaluation steps: 0.027060789029887865\n",
      "Validation loss per 10 evaluation steps: 0.026652490961606854\n",
      "Validation loss per 10 evaluation steps: 0.02687792640670643\n",
      "Validation loss per 10 evaluation steps: 0.02685508618850519\n",
      "Validation loss per 10 evaluation steps: 0.02696979305127988\n",
      "Validation loss per 10 evaluation steps: 0.026934643553123493\n",
      "Validation loss per 10 evaluation steps: 0.026578037807618388\n",
      "Validation loss per 10 evaluation steps: 0.026693669894168562\n",
      "Validation loss per 10 evaluation steps: 0.026739474274958205\n",
      "Validation loss per 10 evaluation steps: 0.026598121490769136\n",
      "Validation loss per 10 evaluation steps: 0.026435839126638154\n",
      "Validation loss per 10 evaluation steps: 0.02645816992021562\n",
      "Validation loss per 10 evaluation steps: 0.026413399643259835\n",
      "Validation loss per 10 evaluation steps: 0.026214953442451668\n",
      "Validation loss per 10 evaluation steps: 0.0261540825377214\n",
      "Validation loss per 10 evaluation steps: 0.026242482631859198\n",
      "Validation loss per 10 evaluation steps: 0.026213541715627627\n",
      "Validation loss per 10 evaluation steps: 0.026307801356639605\n",
      "Validation loss per 10 evaluation steps: 0.026305329188170187\n",
      "Validation loss per 10 evaluation steps: 0.0263522296030631\n",
      "Validation loss per 10 evaluation steps: 0.026426442084332234\n",
      "Validation loss per 10 evaluation steps: 0.026427208343222472\n",
      "Validation loss per 10 evaluation steps: 0.026409130527468277\n",
      "Validation Loss: 0.02640944884327434\n",
      "Validation Accuracy: 0.9614763208243646\n"
     ]
    }
   ],
   "execution_count": 44
  },
  {
   "metadata": {
    "ExecuteTime": {
     "end_time": "2024-11-02T06:54:25.435871Z",
     "start_time": "2024-11-02T06:54:24.123319Z"
    }
   },
   "cell_type": "code",
   "source": "print(classification_report(labels, predictions))",
   "outputs": [
    {
     "name": "stdout",
     "output_type": "stream",
     "text": [
      "              precision    recall  f1-score   support\n",
      "\n",
      "         geo       0.81      0.89      0.85      7378\n",
      "         gpe       0.92      0.92      0.92      3021\n",
      "         org       0.60      0.58      0.59      3964\n",
      "         per       0.71      0.78      0.74      3367\n",
      "         tim       0.85      0.85      0.85      4070\n",
      "\n",
      "   micro avg       0.78      0.81      0.80     21800\n",
      "   macro avg       0.78      0.80      0.79     21800\n",
      "weighted avg       0.78      0.81      0.80     21800\n",
      "\n"
     ]
    }
   ],
   "execution_count": 45
  },
  {
   "cell_type": "code",
   "source": [
    "# Gather the statistics of BIO rule violations. Is there violations in labels?\n",
    "def bio_violations(predictions) -> tuple[int, int, int, int, int]:\n",
    "    violations = 0\n",
    "    violations_in_b = 0\n",
    "    violations_in_i = 0\n",
    "    predicted_labels = 0    \n",
    "    word_token = []\n",
    "    \n",
    "    # Remove the O label and treat each successive B or I label as a sublist\n",
    "    for batch_sentence in predictions:\n",
    "        temp_token = []\n",
    "        for token in batch_sentence:\n",
    "            predicted_labels += 1\n",
    "            if token != 'O':\n",
    "                temp_token.append(token)\n",
    "            else:\n",
    "                if len(temp_token) > 0:\n",
    "                    word_token.append(temp_token)\n",
    "                    temp_token = []\n",
    "        if len(temp_token) > 0:\n",
    "            word_token.append(temp_token)\n",
    "\n",
    "    # Split out all non-first B tags in all sublists\n",
    "    for token in word_token:\n",
    "        for i in range(1, len(token)):\n",
    "            if token[i].startswith('B'):\n",
    "                word_token.append(token[:i])\n",
    "                word_token.append(token[i:])\n",
    "                del token[:]\n",
    "                break\n",
    "\n",
    "    word_token = [token for token in word_token if token]  # Remove the empty sublist\n",
    "    word_token_b = [token for token in word_token if token[0].startswith('B')]  # All sublists starting with the B label\n",
    "    word_token_i = [token for token in word_token if token[0].startswith('I')]  # All sublists starting with the I label\n",
    "\n",
    "    # Statistics on internal error labels\n",
    "    for token in word_token_b:\n",
    "        base = token[0][2:]\n",
    "        for i in range(1, len(token)):\n",
    "            if token[i][2:] != base:\n",
    "                violations += 1\n",
    "                violations_in_b += 1\n",
    "                \n",
    "    for token in word_token_i:\n",
    "        base = token[0][2:]\n",
    "        for i in range(1, len(token)):\n",
    "            if token[i][2:] != base:\n",
    "                violations += 1\n",
    "                violations_in_i += 1\n",
    "\n",
    "    # Add all the I tags that follow the O tags\n",
    "    violations += len(word_token_i)\n",
    "\n",
    "    return violations, predicted_labels, violations_in_b, violations_in_i, len(word_token_i)  # violations, # predictions != 0"
   ],
   "metadata": {
    "id": "y0vDJm7-5dj_",
    "ExecuteTime": {
     "end_time": "2024-11-02T06:54:25.460012Z",
     "start_time": "2024-11-02T06:54:25.454197Z"
    }
   },
   "outputs": [],
   "execution_count": 46
  },
  {
   "metadata": {
    "ExecuteTime": {
     "end_time": "2024-11-02T06:54:25.495073Z",
     "start_time": "2024-11-02T06:54:25.464939Z"
    }
   },
   "cell_type": "code",
   "source": [
    "violations, predicted_labels, violations_in_b, violations_in_i, start_i = bio_violations(predictions)\n",
    "\n",
    "print(f'Numbers of Violations Labels: {violations}, Violations Rate: {violations / predicted_labels}')\n",
    "print(f'Numbers of Violations Labels Inner B Tags: {violations_in_b}')\n",
    "print(f'Numbers of Violations Labels Inner I Tags: {violations_in_i}')\n",
    "print(f'Numbers of Violations Labels I Tags Follow O Tags: {start_i}')"
   ],
   "outputs": [
    {
     "name": "stdout",
     "output_type": "stream",
     "text": [
      "Numbers of Violations Labels: 1159, Violations Rate: 0.0045940471613228\n",
      "Numbers of Violations Labels Inner B Tags: 799\n",
      "Numbers of Violations Labels Inner I Tags: 15\n",
      "Numbers of Violations Labels I Tags Follow O Tags: 345\n"
     ]
    }
   ],
   "execution_count": 47
  },
  {
   "cell_type": "markdown",
   "source": [
    "#[pytorch-crf](https://pytorch-crf.readthedocs.io/en/stable/) Tutorial\n",
    "\n",
    "Before we start Q3 and Q4, we need a brief tutorial on a automatically differentiable pytorch based linear-chain CRF package."
   ],
   "metadata": {
    "id": "u7mLLoKI5lMu"
   }
  },
  {
   "cell_type": "code",
   "source": [
    "# from torchcrf import CRF\n",
    "from torchcrf import CRF\n",
    "crf_model = CRF(len(labels_to_ids))\n",
    "seq_length = 3  # maximum sequence length in a batch\n",
    "batch_size = 2  # number of samples in the batch\n",
    "emissions = torch.randn(seq_length, batch_size, len(labels_to_ids))\n",
    "tags = torch.tensor([[0, 1], [2, 4], [3, 0]], dtype=torch.long)  # (seq_length, batch_size)\n",
    "attention_mask = torch.tensor([[1, 1], [1, 1], [1, 0]], dtype=torch.bool)  # (seq_length, batch_size)\n",
    "\n",
    "loss = crf_model(emissions, tags, mask=attention_mask)\n",
    "predictions = crf_model.decode(emissions, mask=attention_mask)\n",
    "\n",
    "print(f'Loss: {loss}')\n",
    "print(f'Predictions: {predictions}')"
   ],
   "metadata": {
    "id": "aW_vVYyV-uzj",
    "ExecuteTime": {
     "end_time": "2024-11-02T06:54:25.523057Z",
     "start_time": "2024-11-02T06:54:25.515349Z"
    }
   },
   "outputs": [
    {
     "name": "stdout",
     "output_type": "stream",
     "text": [
      "Loss: -16.180574417114258\n",
      "Predictions: [[1, 9, 5], [6, 2]]\n"
     ]
    }
   ],
   "execution_count": 48
  },
  {
   "cell_type": "code",
   "source": [
    "#should produce only 0 tags\n",
    "crf_model.transitions.data[:, :] = -1e6\n",
    "crf_model.transitions.data[0, 0] = 0\n",
    "\n",
    "loss = crf_model(emissions, tags, mask=attention_mask)\n",
    "predictions = crf_model.decode(emissions, mask=attention_mask)\n",
    "\n",
    "print(f'Loss: {loss}')\n",
    "print(f'Predictions: {predictions}')"
   ],
   "metadata": {
    "id": "9wycpzT389M1",
    "ExecuteTime": {
     "end_time": "2024-11-02T06:54:25.548880Z",
     "start_time": "2024-11-02T06:54:25.544390Z"
    }
   },
   "outputs": [
    {
     "name": "stdout",
     "output_type": "stream",
     "text": [
      "Loss: -3000001.0\n",
      "Predictions: [[0, 0, 0], [0, 0]]\n"
     ]
    }
   ],
   "execution_count": 49
  },
  {
   "cell_type": "code",
   "source": [
    "#should produce 0 tags, and ends with a 1\n",
    "crf_model.transitions.data[:, :] = -1e6\n",
    "crf_model.transitions.data[0, 0] = 0\n",
    "crf_model.transitions.data[0, 1] = 1e6\n",
    "\n",
    "loss = crf_model(emissions, tags, mask=attention_mask)\n",
    "predictions = crf_model.decode(emissions, mask=attention_mask)\n",
    "\n",
    "print(f'Loss: {loss}')\n",
    "print(f'Predictions: {predictions}')"
   ],
   "metadata": {
    "id": "unuH0Tns9Vvr",
    "ExecuteTime": {
     "end_time": "2024-11-02T06:54:25.594228Z",
     "start_time": "2024-11-02T06:54:25.589473Z"
    }
   },
   "outputs": [
    {
     "name": "stdout",
     "output_type": "stream",
     "text": [
      "Loss: -4999999.0\n",
      "Predictions: [[0, 0, 1], [0, 1]]\n"
     ]
    }
   ],
   "execution_count": 50
  },
  {
   "cell_type": "markdown",
   "source": [
    "\n",
    "#Q3\n",
    "Use pytorch-crf to add transition scores to rule out violations.\n",
    "\n",
    "This can be achieved via manully setting the crf_model.transitions.data, then rewrite valid method.\n",
    "\n",
    "Then re-evaluate with the same trained Bert model as in Q2\n",
    "\n",
    "1.   Add transition scores to rule out violations and re-evaluate (10 Marks)\n",
    "2.   Recompute new BIO violations. You should find no violation (10 Marks)\n",
    "\n",
    "\n",
    "20 Marks in total for Q3\n"
   ],
   "metadata": {
    "id": "svp74OQu5UbC"
   }
  },
  {
   "metadata": {
    "ExecuteTime": {
     "end_time": "2024-11-02T06:54:25.640192Z",
     "start_time": "2024-11-02T06:54:25.617195Z"
    }
   },
   "cell_type": "code",
   "source": [
    "# Set CRF model and evaluate\n",
    "# Initialize the CRF model\n",
    "from torchcrf import CRF\n",
    "\n",
    "crf_model = CRF(len(labels_to_ids), batch_first=True)\n",
    "crf_model.to(device)\n",
    "\n",
    "# Initialize the transition matrix with very small values to prevent disallowed transitions\n",
    "crf_model.transitions.data[:, :] = -1e6\n",
    "\n",
    "# Define the allowed transition rules\n",
    "for label_from, idx_from in labels_to_ids.items():\n",
    "    for label_to, idx_to in labels_to_ids.items():\n",
    "\n",
    "        # Any label can transition to O label (O -> O, B-<type> -> O, I-<type> -> O)\n",
    "        if label_to == 'O':\n",
    "            crf_model.transitions.data[idx_from, idx_to] = 0\n",
    "\n",
    "        # O label can transition to any B label (O -> B-<type>)\n",
    "        elif label_from == 'O' and label_to.startswith('B'):\n",
    "            crf_model.transitions.data[idx_from, idx_to] = 0\n",
    "\n",
    "        # B label can transition to the corresponding I label (B-<type> -> I-<type>)\n",
    "        elif label_from.startswith('B') and label_to.startswith('I') and label_from[2:] == label_to[2:]:\n",
    "            crf_model.transitions.data[idx_from, idx_to] = 0\n",
    "\n",
    "        # I label can continue transitioning to the same type of I label (I-<type> -> I-<type>)\n",
    "        elif label_from.startswith('I') and label_to.startswith('I') and label_from[2:] == label_to[2:]:\n",
    "            crf_model.transitions.data[idx_from, idx_to] = 0\n",
    "\n",
    "        # B label can transition to a different B label (B-<type> -> B-<new_type>)\n",
    "        elif label_from.startswith('B') and label_to.startswith('B') and label_from[2:] != label_to[2:]:\n",
    "            crf_model.transitions.data[idx_from, idx_to] = 0\n",
    "\n",
    "        # I label can transition to a different B label (I-<type> -> B-<new_type>)\n",
    "        elif label_from.startswith('I') and label_to.startswith('B') and label_from[2:] != label_to[2:]:\n",
    "            crf_model.transitions.data[idx_from, idx_to] = 0\n",
    "\n",
    "print(crf_model.transitions)"
   ],
   "outputs": [
    {
     "name": "stdout",
     "output_type": "stream",
     "text": [
      "Parameter containing:\n",
      "tensor([[       0.,        0.,        0.,        0., -1000000.,        0.,\n",
      "         -1000000.,        0., -1000000., -1000000., -1000000.],\n",
      "        [       0., -1000000.,        0.,        0.,        0.,        0.,\n",
      "         -1000000.,        0., -1000000., -1000000., -1000000.],\n",
      "        [       0.,        0., -1000000.,        0., -1000000.,        0.,\n",
      "         -1000000.,        0., -1000000.,        0., -1000000.],\n",
      "        [       0.,        0.,        0., -1000000., -1000000.,        0.,\n",
      "         -1000000.,        0.,        0., -1000000., -1000000.],\n",
      "        [       0., -1000000.,        0.,        0.,        0.,        0.,\n",
      "         -1000000.,        0., -1000000., -1000000., -1000000.],\n",
      "        [       0.,        0.,        0.,        0., -1000000., -1000000.,\n",
      "                0.,        0., -1000000., -1000000., -1000000.],\n",
      "        [       0.,        0.,        0.,        0., -1000000., -1000000.,\n",
      "                0.,        0., -1000000., -1000000., -1000000.],\n",
      "        [       0.,        0.,        0.,        0., -1000000.,        0.,\n",
      "         -1000000., -1000000., -1000000., -1000000.,        0.],\n",
      "        [       0.,        0.,        0., -1000000., -1000000.,        0.,\n",
      "         -1000000.,        0.,        0., -1000000., -1000000.],\n",
      "        [       0.,        0., -1000000.,        0., -1000000.,        0.,\n",
      "         -1000000.,        0., -1000000.,        0., -1000000.],\n",
      "        [       0.,        0.,        0.,        0., -1000000.,        0.,\n",
      "         -1000000., -1000000., -1000000., -1000000.,        0.]],\n",
      "       device='cuda:0', requires_grad=True)\n"
     ]
    }
   ],
   "execution_count": 51
  },
  {
   "cell_type": "code",
   "source": [
    "#Rewrite the valid method, get predictions and loss from crf_model\n",
    "def crf_valid(model, crf_model, testing_loader) -> tuple[list, list]:\n",
    "    # put model in evaluation mode\n",
    "    model.eval()\n",
    "    crf_model.eval()\n",
    "\n",
    "    eval_loss, eval_accuracy = 0, 0\n",
    "    nb_eval_examples, nb_eval_steps = 0, 0\n",
    "    eval_preds, eval_labels = [], []\n",
    "\n",
    "    with torch.no_grad():\n",
    "        for idx, batch in enumerate(testing_loader):\n",
    "\n",
    "            ids = batch['input_ids'].to(device, dtype=torch.long)\n",
    "            mask = batch['attention_mask'].to(device, dtype=torch.bool)\n",
    "            labels = batch['labels'].to(device, dtype=torch.long)\n",
    "\n",
    "            outputs = model(input_ids=ids, attention_mask=mask, labels=labels)\n",
    "            emissions = outputs[1]\n",
    "            \n",
    "            loss = -crf_model(emissions, labels, mask=mask)  # outpus[0] should also come from crf_model\n",
    "            predictions = crf_model.decode(emissions, mask=mask)  # outpus[1]  use crf_model to get predictions\n",
    "            \n",
    "            eval_loss += loss.item()\n",
    "\n",
    "            nb_eval_steps += 1\n",
    "            nb_eval_examples += labels.size(0)\n",
    "\n",
    "            if idx % 10 == 0:\n",
    "                loss_step = eval_loss / nb_eval_steps\n",
    "                print(f'Validation loss per 10 evaluation steps: {loss_step}')\n",
    "\n",
    "            # compute evaluation accuracy\n",
    "            flattened_targets = labels.view(-1)  # shape (batch_size * seq_len)\n",
    "\n",
    "            # only compute accuracy at active labels\n",
    "            active_accuracy = mask.view(-1)  # shape (batch_size, seq_len)\n",
    "\n",
    "            labels = torch.masked_select(flattened_targets, active_accuracy).tolist()\n",
    "            predictions = [label for sentence in predictions for label in sentence]\n",
    "\n",
    "            eval_labels.append(labels)\n",
    "            eval_preds.append(predictions)\n",
    "\n",
    "            tmp_eval_accuracy = accuracy_score(labels, predictions)\n",
    "            eval_accuracy += tmp_eval_accuracy\n",
    "\n",
    "    labels = [[ids_to_labels[id] for id in labels] for labels in eval_labels]\n",
    "    predictions = [[ids_to_labels[id] for id in preds] for preds in eval_preds]\n",
    "\n",
    "    eval_loss = eval_loss / nb_eval_steps\n",
    "    eval_accuracy = eval_accuracy / nb_eval_steps\n",
    "    print(f'Validation Loss: {eval_loss}')\n",
    "    print(f'Validation Accuracy: {eval_accuracy}')\n",
    "\n",
    "    return labels, predictions"
   ],
   "metadata": {
    "id": "8XCC4Hk59lQn",
    "ExecuteTime": {
     "end_time": "2024-11-02T06:54:25.666255Z",
     "start_time": "2024-11-02T06:54:25.660649Z"
    }
   },
   "outputs": [],
   "execution_count": 52
  },
  {
   "metadata": {
    "ExecuteTime": {
     "end_time": "2024-11-02T06:54:55.609182Z",
     "start_time": "2024-11-02T06:54:25.671748Z"
    }
   },
   "cell_type": "code",
   "source": "labels, predictions = crf_valid(model, crf_model, testing_loader)",
   "outputs": [
    {
     "name": "stdout",
     "output_type": "stream",
     "text": [
      "Validation loss per 10 evaluation steps: 52.899871826171875\n",
      "Validation loss per 10 evaluation steps: 77.3529545177113\n",
      "Validation loss per 10 evaluation steps: 83.44442422049386\n",
      "Validation loss per 10 evaluation steps: 81.93106940484816\n",
      "Validation loss per 10 evaluation steps: 90.8837721289658\n",
      "Validation loss per 10 evaluation steps: 89.3619322683297\n",
      "Validation loss per 10 evaluation steps: 91.14046196859391\n",
      "Validation loss per 10 evaluation steps: 90.25048081303986\n",
      "Validation loss per 10 evaluation steps: 90.28720125739957\n",
      "Validation loss per 10 evaluation steps: 90.46473195002629\n",
      "Validation loss per 10 evaluation steps: 91.09126746300423\n",
      "Validation loss per 10 evaluation steps: 90.39606871046462\n",
      "Validation loss per 10 evaluation steps: 8354.567604033415\n",
      "Validation loss per 10 evaluation steps: 7723.276865806289\n",
      "Validation loss per 10 evaluation steps: 7181.110299103649\n",
      "Validation loss per 10 evaluation steps: 6710.4257731406105\n",
      "Validation loss per 10 evaluation steps: 6299.311104815939\n",
      "Validation loss per 10 evaluation steps: 5936.073323857715\n",
      "Validation loss per 10 evaluation steps: 5612.679624673411\n",
      "Validation loss per 10 evaluation steps: 5322.749509621665\n",
      "Validation loss per 10 evaluation steps: 5062.130720774333\n",
      "Validation loss per 10 evaluation steps: 4826.7307975190515\n",
      "Validation loss per 10 evaluation steps: 4612.480759133041\n",
      "Validation loss per 10 evaluation steps: 4416.546281806318\n",
      "Validation loss per 10 evaluation steps: 4237.280498631268\n",
      "Validation loss per 10 evaluation steps: 4071.6352561403555\n",
      "Validation loss per 10 evaluation steps: 3919.0536716943498\n",
      "Validation loss per 10 evaluation steps: 3778.1099263574806\n",
      "Validation loss per 10 evaluation steps: 3646.6363317822224\n",
      "Validation loss per 10 evaluation steps: 3524.4465045732322\n",
      "Validation Loss: 3443.5458890543687\n",
      "Validation Accuracy: 0.9618639420574798\n"
     ]
    }
   ],
   "execution_count": 53
  },
  {
   "metadata": {
    "ExecuteTime": {
     "end_time": "2024-11-02T06:54:56.914807Z",
     "start_time": "2024-11-02T06:54:55.612401Z"
    }
   },
   "cell_type": "code",
   "source": "print(classification_report(labels, predictions))",
   "outputs": [
    {
     "name": "stdout",
     "output_type": "stream",
     "text": [
      "              precision    recall  f1-score   support\n",
      "\n",
      "         geo       0.83      0.89      0.86      7378\n",
      "         gpe       0.94      0.93      0.93      3021\n",
      "         org       0.69      0.59      0.64      3964\n",
      "         per       0.76      0.79      0.77      3367\n",
      "         tim       0.88      0.85      0.86      4070\n",
      "\n",
      "   micro avg       0.82      0.82      0.82     21800\n",
      "   macro avg       0.82      0.81      0.81     21800\n",
      "weighted avg       0.82      0.82      0.82     21800\n",
      "\n"
     ]
    }
   ],
   "execution_count": 54
  },
  {
   "metadata": {
    "ExecuteTime": {
     "end_time": "2024-11-02T06:54:56.964321Z",
     "start_time": "2024-11-02T06:54:56.934549Z"
    }
   },
   "cell_type": "code",
   "source": [
    "violations, predicted_labels, violations_in_b, violations_in_i, start_i = bio_violations(predictions)\n",
    "\n",
    "print(f'Numbers of Violations Labels: {violations}, Violations Rate: {violations / predicted_labels}')\n",
    "print(f'Numbers of Violations Labels Inner B Tags: {violations_in_b}')\n",
    "print(f'Numbers of Violations Labels Inner I Tags: {violations_in_i}')\n",
    "print(f'Numbers of Violations Labels I Tags Follow O Tags: {start_i}')"
   ],
   "outputs": [
    {
     "name": "stdout",
     "output_type": "stream",
     "text": [
      "Numbers of Violations Labels: 0, Violations Rate: 0.0\n",
      "Numbers of Violations Labels Inner B Tags: 0\n",
      "Numbers of Violations Labels Inner I Tags: 0\n",
      "Numbers of Violations Labels I Tags Follow O Tags: 0\n"
     ]
    }
   ],
   "execution_count": 55
  },
  {
   "cell_type": "markdown",
   "source": [
    "#Q4\n",
    "Use pytorch-crf to jointly re-train the Bert model with transition score.\n",
    "\n",
    "\n",
    "Then re-evaluate with the same trained Bert model as in Q2\n",
    "\n",
    "1.   Train transition scores jointly with Bert model (20 Marks)\n",
    "2.   Report Result and Recompute new BIO violations.  (10 Marks)\n",
    "\n",
    "\n",
    "30 Marks in total for Q4\n",
    "\n"
   ],
   "metadata": {
    "id": "LQuL0E9iABsV"
   }
  },
  {
   "metadata": {
    "ExecuteTime": {
     "end_time": "2024-11-02T06:54:56.989025Z",
     "start_time": "2024-11-02T06:54:56.985533Z"
    }
   },
   "cell_type": "code",
   "source": [
    "# The parameters of BERT and CRF models are collected separately\n",
    "optimizer_parameters = [\n",
    "    {'params': model.parameters(), 'lr': LEARNING_RATE},  # BERT model parameters\n",
    "    {'params': crf_model.parameters(), 'lr': LEARNING_RATE}  # # CRF model parameters\n",
    "]\n",
    "\n",
    "optimizer = torch.optim.Adam(optimizer_parameters)"
   ],
   "outputs": [],
   "execution_count": 56
  },
  {
   "cell_type": "code",
   "source": [
    "# Rewrite the train method here, and then re-evaluate\n",
    "def crf_train(training_loader):\n",
    "    tr_loss, tr_accuracy = 0, 0  # training loss and training accuracy\n",
    "    nb_tr_examples, nb_tr_steps = 0, 0  # the number of training samples and training steps\n",
    "    tr_preds, tr_labels = [], []  # stores prediction labels and real labels\n",
    "    # put model in training mode\n",
    "    model.train()\n",
    "    crf_model.train()\n",
    "\n",
    "    for idx, batch in enumerate(training_loader):\n",
    "        \n",
    "        ids = batch['input_ids'].to(device, dtype=torch.long)\n",
    "        mask = batch['attention_mask'].to(device, dtype=torch.bool)\n",
    "        labels = batch['labels'].to(device, dtype=torch.long)\n",
    "\n",
    "        outputs = model(input_ids=ids, attention_mask=mask, labels=labels)  # forward propagation\n",
    "        emissions = outputs[1]\n",
    "        \n",
    "        loss = -crf_model(emissions, labels, mask=mask)  # outpus[0] should also come from crf_model\n",
    "        predictions = crf_model.decode(emissions, mask=mask)  # outpus[1]  use crf_model to get predictions\n",
    "        \n",
    "        tr_loss += loss.item()  # add up the loss of the current batch\n",
    "\n",
    "        nb_tr_steps += 1  # update the training step count\n",
    "        nb_tr_examples += labels.size(0)  # Update the number of training samples\n",
    "\n",
    "        if idx % 10 == 0:  # print training losses every 10 steps\n",
    "            loss_step = tr_loss / nb_tr_steps\n",
    "            print(f'Training loss per 10 training steps: {loss_step}')\n",
    "\n",
    "        # compute evaluation accuracy\n",
    "        flattened_targets = labels.view(-1)  # shape (batch_size * seq_len,)\n",
    "\n",
    "        # only compute accuracy at active labels\n",
    "        active_accuracy = mask.view(-1)  # shape (batch_size, seq_len)\n",
    "\n",
    "        labels = torch.masked_select(flattened_targets, active_accuracy).tolist()\n",
    "        predictions = [label for sentence in predictions for label in sentence]\n",
    "\n",
    "        tr_labels.append(labels)\n",
    "        tr_preds.append(predictions)\n",
    "\n",
    "        tmp_tr_accuracy = accuracy_score(labels, predictions)\n",
    "        tr_accuracy += tmp_tr_accuracy\n",
    "        \n",
    "        # gradient clipping\n",
    "        all_model_parameters = list(model.parameters()) + list(crf_model.parameters())\n",
    "        torch.nn.utils.clip_grad_norm_(all_model_parameters, max_norm=MAX_GRAD_NORM)\n",
    "        \n",
    "        # backward pass\n",
    "        optimizer.zero_grad()\n",
    "        loss.backward()\n",
    "        optimizer.step()\n",
    "\n",
    "    epoch_loss = tr_loss / nb_tr_steps\n",
    "    tr_accuracy = tr_accuracy / nb_tr_steps\n",
    "    print(f'Validation Loss: {epoch_loss}')\n",
    "    print(f'Validation Accuracy: {tr_accuracy}')"
   ],
   "metadata": {
    "id": "uV1lHhvXBzGp",
    "ExecuteTime": {
     "end_time": "2024-11-02T06:54:56.999846Z",
     "start_time": "2024-11-02T06:54:56.995167Z"
    }
   },
   "outputs": [],
   "execution_count": 57
  },
  {
   "metadata": {
    "ExecuteTime": {
     "end_time": "2024-11-02T06:59:43.880508Z",
     "start_time": "2024-11-02T06:54:57.003839Z"
    }
   },
   "cell_type": "code",
   "source": [
    "for epoch in range(EPOCHS):\n",
    "    print(f'Training epoch: {epoch + 1}')\n",
    "    crf_train(training_loader)"
   ],
   "outputs": [
    {
     "name": "stdout",
     "output_type": "stream",
     "text": [
      "Training epoch: 1\n",
      "Training loss per 10 training steps: 109.29573059082031\n",
      "Training loss per 10 training steps: 75.7021817294034\n",
      "Training loss per 10 training steps: 73.704587663923\n",
      "Training loss per 10 training steps: 67.7897561596286\n",
      "Training loss per 10 training steps: 65.94489288330078\n",
      "Training loss per 10 training steps: 65.20941393983131\n",
      "Training loss per 10 training steps: 64.16057855574812\n",
      "Training loss per 10 training steps: 62.4219983060595\n",
      "Training loss per 10 training steps: 61.387170438413264\n",
      "Training loss per 10 training steps: 61.04262454693134\n",
      "Training loss per 10 training steps: 62.19312063538202\n",
      "Training loss per 10 training steps: 61.6182490168391\n",
      "Training loss per 10 training steps: 62.22922591532557\n",
      "Training loss per 10 training steps: 62.757848928902895\n",
      "Training loss per 10 training steps: 62.30357225566891\n",
      "Training loss per 10 training steps: 61.98434594766983\n",
      "Training loss per 10 training steps: 61.88572984304487\n",
      "Training loss per 10 training steps: 61.7647560521176\n",
      "Training loss per 10 training steps: 61.224794840944405\n",
      "Training loss per 10 training steps: 60.647158697637586\n",
      "Training loss per 10 training steps: 61.058546018837696\n",
      "Training loss per 10 training steps: 60.706650810784076\n",
      "Training loss per 10 training steps: 60.72902998773221\n",
      "Training loss per 10 training steps: 60.592964568695464\n",
      "Training loss per 10 training steps: 60.56135684128124\n",
      "Training loss per 10 training steps: 60.373462525021985\n",
      "Training loss per 10 training steps: 60.10344145033095\n",
      "Training loss per 10 training steps: 59.77216384155724\n",
      "Training loss per 10 training steps: 59.79037713156052\n",
      "Training loss per 10 training steps: 59.445339360187965\n",
      "Training loss per 10 training steps: 59.21861749946873\n",
      "Training loss per 10 training steps: 59.1545018260502\n",
      "Training loss per 10 training steps: 58.962966705037054\n",
      "Training loss per 10 training steps: 58.60700040281359\n",
      "Training loss per 10 training steps: 58.50292558194605\n",
      "Training loss per 10 training steps: 58.42246850603326\n",
      "Training loss per 10 training steps: 58.32831045134906\n",
      "Training loss per 10 training steps: 58.152903996387906\n",
      "Training loss per 10 training steps: 58.029484205671494\n",
      "Training loss per 10 training steps: 58.13990110509536\n",
      "Training loss per 10 training steps: 58.12265182076547\n",
      "Training loss per 10 training steps: 58.046754860239886\n",
      "Training loss per 10 training steps: 57.90757346436417\n",
      "Training loss per 10 training steps: 57.902366470018286\n",
      "Training loss per 10 training steps: 57.688080820096594\n",
      "Training loss per 10 training steps: 57.71415901606998\n",
      "Training loss per 10 training steps: 57.61747195560348\n",
      "Training loss per 10 training steps: 57.50764593298521\n",
      "Training loss per 10 training steps: 57.289379905018635\n",
      "Training loss per 10 training steps: 57.15709941110397\n",
      "Training loss per 10 training steps: 56.961494978792416\n",
      "Training loss per 10 training steps: 56.83707298084715\n",
      "Training loss per 10 training steps: 56.79106911862423\n",
      "Training loss per 10 training steps: 56.83020722843608\n",
      "Training loss per 10 training steps: 56.67300283886809\n",
      "Training loss per 10 training steps: 56.69448677381457\n",
      "Training loss per 10 training steps: 56.73712647109958\n",
      "Training loss per 10 training steps: 56.767488382743664\n",
      "Training loss per 10 training steps: 56.682349731918045\n",
      "Training loss per 10 training steps: 56.62649404457983\n",
      "Training loss per 10 training steps: 56.54551075381566\n",
      "Training loss per 10 training steps: 56.342560026727604\n",
      "Training loss per 10 training steps: 56.206536561778584\n",
      "Training loss per 10 training steps: 56.15936017527633\n",
      "Training loss per 10 training steps: 56.18691417319168\n",
      "Training loss per 10 training steps: 56.197755675894506\n",
      "Training loss per 10 training steps: 56.13617702259058\n",
      "Training loss per 10 training steps: 56.07093062308435\n",
      "Training loss per 10 training steps: 56.06306971747445\n",
      "Training loss per 10 training steps: 55.97968136556932\n",
      "Training loss per 10 training steps: 55.836090485141554\n",
      "Training loss per 10 training steps: 55.70612736526253\n",
      "Training loss per 10 training steps: 55.695592840567706\n",
      "Training loss per 10 training steps: 55.70404966487441\n",
      "Training loss per 10 training steps: 55.53909448991742\n",
      "Training loss per 10 training steps: 55.48096549368095\n",
      "Training loss per 10 training steps: 55.395369400646\n",
      "Training loss per 10 training steps: 55.32192961993385\n",
      "Training loss per 10 training steps: 55.237541491792996\n",
      "Training loss per 10 training steps: 55.28819446587834\n",
      "Training loss per 10 training steps: 55.198033384020704\n",
      "Training loss per 10 training steps: 55.05258083225913\n",
      "Training loss per 10 training steps: 54.88532743558524\n",
      "Training loss per 10 training steps: 54.76708217304106\n",
      "Training loss per 10 training steps: 54.70924674543274\n",
      "Training loss per 10 training steps: 54.731237247883925\n",
      "Training loss per 10 training steps: 54.63919617213162\n",
      "Training loss per 10 training steps: 54.651101367481814\n",
      "Training loss per 10 training steps: 54.602679348966184\n",
      "Training loss per 10 training steps: 54.54009029760907\n",
      "Training loss per 10 training steps: 54.42540288791805\n",
      "Training loss per 10 training steps: 54.326092055286196\n",
      "Training loss per 10 training steps: 54.29770580461566\n",
      "Training loss per 10 training steps: 54.18035263815449\n",
      "Training loss per 10 training steps: 54.191387431907856\n",
      "Training loss per 10 training steps: 54.1557396247936\n",
      "Training loss per 10 training steps: 54.09849614630629\n",
      "Training loss per 10 training steps: 53.96910234288256\n",
      "Training loss per 10 training steps: 53.95442062051289\n",
      "Training loss per 10 training steps: 53.9281571751045\n",
      "Training loss per 10 training steps: 53.887311140855\n",
      "Training loss per 10 training steps: 53.92073402819836\n",
      "Training loss per 10 training steps: 53.87478973582956\n",
      "Training loss per 10 training steps: 53.80144129992688\n",
      "Training loss per 10 training steps: 53.76226789417688\n",
      "Training loss per 10 training steps: 53.73293967206176\n",
      "Training loss per 10 training steps: 53.74850134170921\n",
      "Training loss per 10 training steps: 53.69317312801586\n",
      "Training loss per 10 training steps: 53.602007598594646\n",
      "Training loss per 10 training steps: 53.54365632208414\n",
      "Training loss per 10 training steps: 53.603613376184335\n",
      "Training loss per 10 training steps: 53.54395950001494\n",
      "Training loss per 10 training steps: 53.488828796876746\n",
      "Training loss per 10 training steps: 53.439925978818266\n",
      "Training loss per 10 training steps: 53.34021069980524\n",
      "Training loss per 10 training steps: 53.3536099186159\n",
      "Training loss per 10 training steps: 53.294135403366155\n",
      "Training loss per 10 training steps: 53.283754373187186\n",
      "Training loss per 10 training steps: 53.24687415437109\n",
      "Validation Loss: 53.18128157222972\n",
      "Validation Accuracy: 0.9623844128319787\n"
     ]
    }
   ],
   "execution_count": 58
  },
  {
   "metadata": {
    "ExecuteTime": {
     "end_time": "2024-11-02T06:59:43.904905Z",
     "start_time": "2024-11-02T06:59:43.897763Z"
    }
   },
   "cell_type": "code",
   "source": "print(crf_model.transitions)",
   "outputs": [
    {
     "name": "stdout",
     "output_type": "stream",
     "text": [
      "Parameter containing:\n",
      "tensor([[ 1.5194e-03, -1.5520e-04, -1.8233e-03, -1.8587e-03, -1.0000e+06,\n",
      "         -1.3294e-03, -1.0000e+06, -1.3070e-03, -1.0000e+06, -1.0000e+06,\n",
      "         -1.0000e+06],\n",
      "        [-1.3241e-03, -1.0000e+06, -3.7061e-05, -2.4885e-03,  2.5330e-04,\n",
      "         -1.5552e-03, -1.0000e+06,  9.6984e-04, -1.0000e+06, -1.0000e+06,\n",
      "         -1.0000e+06],\n",
      "        [-2.3644e-03, -4.2800e-04, -1.0000e+06, -6.0014e-04, -1.0000e+06,\n",
      "          1.6621e-03, -1.0000e+06, -2.4324e-03, -1.0000e+06,  2.6147e-04,\n",
      "         -1.0000e+06],\n",
      "        [-2.3600e-03, -1.6788e-03,  3.3200e-04, -1.0000e+06, -1.0000e+06,\n",
      "          9.7256e-05, -1.0000e+06, -1.3248e-03, -3.4791e-04, -1.0000e+06,\n",
      "         -1.0000e+06],\n",
      "        [ 8.5010e-04, -1.0000e+06, -4.4360e-03, -1.6465e-03,  6.8245e-04,\n",
      "         -2.8451e-03, -1.0000e+06, -1.1339e-03, -1.0000e+06, -1.0000e+06,\n",
      "         -1.0000e+06],\n",
      "        [-1.8269e-03, -4.2409e-03,  5.3631e-04, -2.5055e-04, -1.0000e+06,\n",
      "         -1.0000e+06,  1.1785e-04, -1.2711e-03, -1.0000e+06, -1.0000e+06,\n",
      "         -1.0000e+06],\n",
      "        [-2.9242e-04, -3.8850e-03,  1.1602e-03,  1.5477e-03, -1.0000e+06,\n",
      "         -1.0000e+06,  5.1115e-04,  1.0165e-03, -1.0000e+06, -1.0000e+06,\n",
      "         -1.0000e+06],\n",
      "        [-1.3059e-03, -1.0481e-03, -5.2626e-04, -1.9247e-03, -1.0000e+06,\n",
      "         -7.7814e-04, -1.0000e+06, -1.0000e+06, -1.0000e+06, -1.0000e+06,\n",
      "          5.0073e-05],\n",
      "        [-9.8684e-05, -1.1291e-03, -3.1138e-03, -1.0000e+06, -1.0000e+06,\n",
      "          5.5617e-04, -1.0000e+06, -1.1242e-03,  5.4315e-04, -1.0000e+06,\n",
      "         -1.0000e+06],\n",
      "        [-1.5609e-04, -3.3491e-03, -1.0000e+06,  9.5258e-04, -1.0000e+06,\n",
      "          2.5594e-04, -1.0000e+06, -3.3431e-03, -1.0000e+06,  1.1371e-03,\n",
      "         -1.0000e+06],\n",
      "        [ 8.2059e-05, -1.6796e-04, -5.7472e-04, -2.5980e-04, -1.0000e+06,\n",
      "         -9.4655e-04, -1.0000e+06, -1.0000e+06, -1.0000e+06, -1.0000e+06,\n",
      "          1.7329e-03]], device='cuda:0', requires_grad=True)\n"
     ]
    }
   ],
   "execution_count": 59
  },
  {
   "metadata": {
    "ExecuteTime": {
     "end_time": "2024-11-02T07:00:13.907826Z",
     "start_time": "2024-11-02T06:59:43.931476Z"
    }
   },
   "cell_type": "code",
   "source": "labels, predictions = crf_valid(model, crf_model, testing_loader)",
   "outputs": [
    {
     "name": "stdout",
     "output_type": "stream",
     "text": [
      "Validation loss per 10 evaluation steps: 36.41700744628906\n",
      "Validation loss per 10 evaluation steps: 45.74637118252841\n",
      "Validation loss per 10 evaluation steps: 46.61808231898716\n",
      "Validation loss per 10 evaluation steps: 49.354852984028476\n",
      "Validation loss per 10 evaluation steps: 47.89251029782179\n",
      "Validation loss per 10 evaluation steps: 49.16838903988109\n",
      "Validation loss per 10 evaluation steps: 49.02370058903929\n",
      "Validation loss per 10 evaluation steps: 48.463373802077605\n",
      "Validation loss per 10 evaluation steps: 49.36255918903115\n",
      "Validation loss per 10 evaluation steps: 49.408356090168375\n",
      "Validation loss per 10 evaluation steps: 49.24526173053402\n",
      "Validation loss per 10 evaluation steps: 48.927218050570104\n",
      "Validation loss per 10 evaluation steps: 49.76448394838444\n",
      "Validation loss per 10 evaluation steps: 49.77584985922311\n",
      "Validation loss per 10 evaluation steps: 50.0907302612954\n",
      "Validation loss per 10 evaluation steps: 49.867099370388004\n",
      "Validation loss per 10 evaluation steps: 50.235022278305905\n",
      "Validation loss per 10 evaluation steps: 50.28241878085666\n",
      "Validation loss per 10 evaluation steps: 50.039408362372804\n",
      "Validation loss per 10 evaluation steps: 49.95031795202125\n",
      "Validation loss per 10 evaluation steps: 50.136769906798406\n",
      "Validation loss per 10 evaluation steps: 49.892027154352995\n",
      "Validation loss per 10 evaluation steps: 50.025472917168386\n",
      "Validation loss per 10 evaluation steps: 49.920267732628496\n",
      "Validation loss per 10 evaluation steps: 49.831475784175126\n",
      "Validation loss per 10 evaluation steps: 49.3845412189742\n",
      "Validation loss per 10 evaluation steps: 49.263717205588385\n",
      "Validation loss per 10 evaluation steps: 49.12921844285353\n",
      "Validation loss per 10 evaluation steps: 49.24807021796067\n",
      "Validation loss per 10 evaluation steps: 3485.7983510846534\n",
      "Validation Loss: 3405.2162817308567\n",
      "Validation Accuracy: 0.9622470712136347\n"
     ]
    }
   ],
   "execution_count": 60
  },
  {
   "metadata": {
    "ExecuteTime": {
     "end_time": "2024-11-02T07:00:15.220072Z",
     "start_time": "2024-11-02T07:00:13.911387Z"
    }
   },
   "cell_type": "code",
   "source": "print(classification_report(labels, predictions, zero_division=0))",
   "outputs": [
    {
     "name": "stdout",
     "output_type": "stream",
     "text": [
      "              precision    recall  f1-score   support\n",
      "\n",
      "         geo       0.83      0.90      0.86      7378\n",
      "         gpe       0.95      0.93      0.94      3021\n",
      "         org       0.79      0.58      0.67      3964\n",
      "         per       0.78      0.79      0.79      3367\n",
      "         tim       0.87      0.86      0.87      4070\n",
      "\n",
      "   micro avg       0.84      0.82      0.83     21800\n",
      "   macro avg       0.84      0.81      0.82     21800\n",
      "weighted avg       0.84      0.82      0.83     21800\n",
      "\n"
     ]
    }
   ],
   "execution_count": 61
  },
  {
   "metadata": {
    "ExecuteTime": {
     "end_time": "2024-11-02T07:00:15.270487Z",
     "start_time": "2024-11-02T07:00:15.240031Z"
    }
   },
   "cell_type": "code",
   "source": [
    "violations, predicted_labels, violations_in_b, violations_in_i, start_i = bio_violations(predictions)\n",
    "\n",
    "print(f'Numbers of Violations Labels: {violations}, Violations Rate: {violations / predicted_labels}')\n",
    "print(f'Numbers of Violations Labels Inner B Tags: {violations_in_b}')\n",
    "print(f'Numbers of Violations Labels Inner I Tags: {violations_in_i}')\n",
    "print(f'Numbers of Violations Labels I Tags Follow O Tags: {start_i}')"
   ],
   "outputs": [
    {
     "name": "stdout",
     "output_type": "stream",
     "text": [
      "Numbers of Violations Labels: 0, Violations Rate: 0.0\n",
      "Numbers of Violations Labels Inner B Tags: 0\n",
      "Numbers of Violations Labels Inner I Tags: 0\n",
      "Numbers of Violations Labels I Tags Follow O Tags: 0\n"
     ]
    }
   ],
   "execution_count": 62
  }
 ]
}
